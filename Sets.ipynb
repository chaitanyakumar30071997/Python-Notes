{
 "cells": [
  {
   "cell_type": "markdown",
   "id": "f1470369-b072-4ddb-a9a7-52a80e367c5c",
   "metadata": {},
   "source": [
    "# Sets\n",
    "\n",
    "→ A Set is an Unordered collection of items. Every item is Unique (no duplicates) and must be immutable (which cannot be changed). (or)\n",
    "\n",
    "→ A set is a collection, which is both Unordered and Unindexed.\n",
    "\n",
    "→Sets are used to store multiple items in a Single Variable.\n",
    "\n",
    "→ A set is created by placing all the items inside Cully braces, Separated by Comma cor)\n",
    "\n",
    "by Using the built-in function setc). EX: 1. Myset = {\"Nehal\", \"Vedhamsh\", \"pradeep\"}\n",
    "\n",
    "2. S= Set([1,2,3,4])\n",
    "\n",
    "→ once a set is created, you cannot change it's items, but you can add new item.\n",
    "\n",
    "→sets cannot have two items with the Same Value.\n",
    "\n",
    "→Sets items can be of any datatypes.\n",
    "\n",
    "→ Elements of sets Cannot be retrived by using the index items.\n",
    "\n",
    "→Sets can be used to perform mathematical set operations like Union, intersection, difference "
   ]
  },
  {
   "cell_type": "code",
   "execution_count": 3,
   "id": "62006344-4ec6-4ae4-ae86-7a4eb529629b",
   "metadata": {},
   "outputs": [],
   "source": [
    "s = {22,'Hello',45}"
   ]
  },
  {
   "cell_type": "code",
   "execution_count": 4,
   "id": "f1ea51fe-c049-44fc-b8e2-04336a648943",
   "metadata": {},
   "outputs": [
    {
     "data": {
      "text/plain": [
       "set"
      ]
     },
     "execution_count": 4,
     "metadata": {},
     "output_type": "execute_result"
    }
   ],
   "source": [
    "type(s)"
   ]
  },
  {
   "cell_type": "code",
   "execution_count": 6,
   "id": "71dcadc5-a320-48b9-9bbe-33131decc80c",
   "metadata": {},
   "outputs": [],
   "source": [
    "s.add('apply')"
   ]
  },
  {
   "cell_type": "code",
   "execution_count": 7,
   "id": "1087d7a8-b877-4159-92b5-c9111fc0ee80",
   "metadata": {},
   "outputs": [],
   "source": [
    "e = {'cares', 'bikes'}\n"
   ]
  },
  {
   "cell_type": "code",
   "execution_count": 8,
   "id": "e9e4a703-9f3b-4d7a-aa47-e834a3147d7d",
   "metadata": {},
   "outputs": [],
   "source": [
    "s.update(e)"
   ]
  },
  {
   "cell_type": "code",
   "execution_count": 9,
   "id": "5f26f33a-2a82-4351-9e7a-601ac4e58033",
   "metadata": {},
   "outputs": [
    {
     "data": {
      "text/plain": [
       "{22, 45, 'Hello', 'apply', 'bikes', 'cares'}"
      ]
     },
     "execution_count": 9,
     "metadata": {},
     "output_type": "execute_result"
    }
   ],
   "source": [
    "s"
   ]
  },
  {
   "cell_type": "code",
   "execution_count": null,
   "id": "71435c4e-d810-44db-b409-1bc79dc5f089",
   "metadata": {},
   "outputs": [],
   "source": []
  }
 ],
 "metadata": {
  "kernelspec": {
   "display_name": "Python 3 (ipykernel)",
   "language": "python",
   "name": "python3"
  },
  "language_info": {
   "codemirror_mode": {
    "name": "ipython",
    "version": 3
   },
   "file_extension": ".py",
   "mimetype": "text/x-python",
   "name": "python",
   "nbconvert_exporter": "python",
   "pygments_lexer": "ipython3",
   "version": "3.11.4"
  }
 },
 "nbformat": 4,
 "nbformat_minor": 5
}
