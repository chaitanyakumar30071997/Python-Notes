{
 "cells": [
  {
   "cell_type": "markdown",
   "id": "f4588de1-ca4d-485a-8f0f-9dbfa29683a5",
   "metadata": {},
   "source": [
    "# Data Type "
   ]
  },
  {
   "cell_type": "markdown",
   "id": "075336c1-de36-4195-9b50-d467f4e05630",
   "metadata": {},
   "source": [
    "1. data type is used to specify what type of data has to be stored into the variable\n",
    "2. without datatype we cannot store the data into the variable\n",
    "3. Python support the dynamic datatype i.e at the data whcih is assigned to the variable\n",
    "4. python provides various data type they are as flooows"
   ]
  },
  {
   "cell_type": "code",
   "execution_count": 2,
   "id": "e27a6a36-9f1c-43ca-a1f0-95625adb0c19",
   "metadata": {},
   "outputs": [],
   "source": [
    "# Type "
   ]
  },
  {
   "cell_type": "markdown",
   "id": "c79edace-068b-43c4-ba4a-b839ac13be29",
   "metadata": {},
   "source": [
    "#Text Type\n",
    "str: String, used to represent text.\n",
    "\n",
    "# Numeric Types\n",
    "int: Integer, used to represent whole numbers.\n",
    "float: Floating point number, used to represent decimal numbers.\n",
    "complex: Complex number, used to represent complex numbers with real and imaginary parts.\n",
    "# Sequence Types\n",
    "list: Ordered, mutable collection of items.\n",
    "tuple: Ordered, immutable collection of items.\n",
    "range: Represents a sequence of numbers, commonly used in loops.\n",
    "# Mapping Type\n",
    "dict: Dictionary, used to store key-value pairs.\n",
    "Set Types\n",
    "set: Unordered collection of unique items.\n",
    "frozenset: Immutable version of a set.\n",
    "# Boolean Type\n",
    "bool: Boolean, used to represent True or False.\n",
    "# Binary Types\n",
    "bytes: Immutable sequence of bytes.\n",
    "bytearray: Mutable sequence of bytes.\n",
    "memoryview: Provides a view of the memory of another binary object.\n",
    "# None Type\n",
    "NoneType: Represents the absence of a value or a null value.\n",
    "Example Usage\n",
    "Here’s a simple example demonstrating some of these data types:\n",
    "\n"
   ]
  },
  {
   "cell_type": "code",
   "execution_count": 4,
   "id": "11aecf13-9db5-40fb-ae59-28eb932a6b0d",
   "metadata": {},
   "outputs": [
    {
     "name": "stdout",
     "output_type": "stream",
     "text": [
      "<class 'str'>\n",
      "<class 'int'>\n",
      "<class 'float'>\n",
      "<class 'complex'>\n",
      "<class 'list'>\n",
      "<class 'tuple'>\n",
      "<class 'range'>\n",
      "<class 'dict'>\n",
      "<class 'set'>\n",
      "<class 'frozenset'>\n",
      "<class 'bool'>\n",
      "<class 'bytes'>\n",
      "<class 'bytearray'>\n",
      "<class 'memoryview'>\n",
      "<class 'NoneType'>\n"
     ]
    }
   ],
   "source": [
    "# Text Type\n",
    "text = \"Hello, World!\"\n",
    "\n",
    "# Numeric Types\n",
    "integer = 42\n",
    "floating = 3.14\n",
    "complex_num = 1 + 2j\n",
    "\n",
    "# Sequence Types\n",
    "list_example = [1, 2, 3, 4, 5]\n",
    "tuple_example = (1, 2, 3, 4, 5)\n",
    "range_example = range(6)\n",
    "\n",
    "# Mapping Type\n",
    "dict_example = {\"name\": \"Alice\", \"age\": 30}\n",
    "\n",
    "# Set Types\n",
    "set_example = {1, 2, 3, 4, 5}\n",
    "frozenset_example = frozenset([1, 2, 3, 4, 5])\n",
    "\n",
    "# Boolean Type\n",
    "boolean = True\n",
    "\n",
    "# Binary Types\n",
    "bytes_example = b\"Hello\"\n",
    "bytearray_example = bytearray(5)\n",
    "memoryview_example = memoryview(bytes(5))\n",
    "\n",
    "# None Type\n",
    "none_example = None\n",
    "\n",
    "print(type(text))           \n",
    "print(type(integer))        \n",
    "print(type(floating))       \n",
    "print(type(complex_num))    \n",
    "print(type(list_example))   \n",
    "print(type(tuple_example))  \n",
    "print(type(range_example))  \n",
    "print(type(dict_example))   \n",
    "print(type(set_example))    \n",
    "print(type(frozenset_example)) \n",
    "print(type(boolean))         \n",
    "print(type(bytes_example))  \n",
    "print(type(bytearray_example))\n",
    "print(type(memoryview_example)) \n",
    "print(type(none_example))   \n"
   ]
  },
  {
   "cell_type": "code",
   "execution_count": null,
   "id": "8570f03d-085b-404d-b338-237f4857f531",
   "metadata": {},
   "outputs": [],
   "source": []
  }
 ],
 "metadata": {
  "kernelspec": {
   "display_name": "Python 3 (ipykernel)",
   "language": "python",
   "name": "python3"
  },
  "language_info": {
   "codemirror_mode": {
    "name": "ipython",
    "version": 3
   },
   "file_extension": ".py",
   "mimetype": "text/x-python",
   "name": "python",
   "nbconvert_exporter": "python",
   "pygments_lexer": "ipython3",
   "version": "3.12.3"
  }
 },
 "nbformat": 4,
 "nbformat_minor": 5
}
