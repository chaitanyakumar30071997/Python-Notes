{
 "cells": [
  {
   "cell_type": "markdown",
   "id": "22a5652b-3799-477d-8f15-e7202db04ad8",
   "metadata": {},
   "source": [
    "# Maps Function in Python\n",
    "\n",
    "1. It is a Built-in function. Used to applay a function to all the elements of The sequence or Itelable\n",
    "\n",
    "2. It assigns a passed-in function to all the elements present in an Iterable object and returns a list that contains a function call result.\n",
    "\n",
    "3. The map() function is a built-in Python function that allows you to apply a specified function to each item in an iterable (such as lists, tuples, etc.). It returns a new iterable (a map object) containing the transformed values.\n",
    "\n",
    "4. \n",
    "\n",
    "\n",
    "\n",
    "syntax:- map(function, iterable)\n"
   ]
  },
  {
   "cell_type": "code",
   "execution_count": 1,
   "id": "fd9c22cb-a738-41a4-84fb-4e4b2bb6920a",
   "metadata": {},
   "outputs": [
    {
     "name": "stdout",
     "output_type": "stream",
     "text": [
      "[1, 4, 9, 16]\n"
     ]
    }
   ],
   "source": [
    "# Square of Numbers: Let’s say we want to calculate the square of each number in a list:\n",
    "\n",
    "numbers = [1, 2, 3, 4]\n",
    "squared_numbers = map(lambda x: x ** 2, numbers)\n",
    "print(list(squared_numbers)) \n",
    "\n"
   ]
  },
  {
   "cell_type": "code",
   "execution_count": 2,
   "id": "8f586f76-ac98-4035-b9bc-bb6b9b328a7d",
   "metadata": {},
   "outputs": [
    {
     "name": "stdout",
     "output_type": "stream",
     "text": [
      "[32, 58, 93]\n"
     ]
    }
   ],
   "source": [
    "# Convert Strings to Integers: We can use map() to convert a list of strings to integers:\n",
    "string_numbers = [\"32\", \"58\", \"93\"]\n",
    "integers = map(int, string_numbers)\n",
    "print(list(integers))  \n"
   ]
  },
  {
   "cell_type": "code",
   "execution_count": 3,
   "id": "5d677580-de31-490c-83ef-b48a53a27069",
   "metadata": {},
   "outputs": [
    {
     "name": "stdout",
     "output_type": "stream",
     "text": [
      "[15, 22, 30]\n"
     ]
    }
   ],
   "source": [
    "# Apply Custom Function: You can define your own function and apply it using map():\n",
    "def add_ten(x):\n",
    "    return x + 10\n",
    "\n",
    "original_numbers = [5, 12, 20]\n",
    "modified_numbers = map(add_ten, original_numbers)\n",
    "print(list(modified_numbers)) \n"
   ]
  },
  {
   "cell_type": "code",
   "execution_count": null,
   "id": "2d0b0f99-a029-48a2-b35d-b340d5618cdb",
   "metadata": {},
   "outputs": [],
   "source": []
  }
 ],
 "metadata": {
  "kernelspec": {
   "display_name": "Python 3 (ipykernel)",
   "language": "python",
   "name": "python3"
  },
  "language_info": {
   "codemirror_mode": {
    "name": "ipython",
    "version": 3
   },
   "file_extension": ".py",
   "mimetype": "text/x-python",
   "name": "python",
   "nbconvert_exporter": "python",
   "pygments_lexer": "ipython3",
   "version": "3.12.3"
  }
 },
 "nbformat": 4,
 "nbformat_minor": 5
}
