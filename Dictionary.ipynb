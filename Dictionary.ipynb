{
 "cells": [
  {
   "cell_type": "markdown",
   "id": "ce1c7d08-4116-4c45-b666-cadb022dd916",
   "metadata": {},
   "source": [
    "# Dictionary\n",
    "\n",
    "→A Dictionary Can determine a set of elements as key, Value pair.\n",
    "\n",
    "# Creating a Dictionary:-\n",
    "\n",
    "→leating a Dictionary is as simple as placing items inside Curly braces   {}Seperated by (,).\n",
    "\n",
    "Ex: d={1:'Nehaal', 2:'Vedhamsh' }\n",
    "\n",
    "you can also create a dictionary using the built-in function dict().\n",
    "\n",
    "dt = dict({1: 'Nehaal', 2: 'Vedhamsh})\n",
    "\n",
    "→ the key and value pairs in the dictionary are seperated by Cedon (:).\n",
    "\n",
    "# Accessing elements :-\n",
    "\n",
    "\n",
    "\n",
    "①. Using key: Ex: print (d(17) Nehaal\n",
    "\n",
    "using getc):-Ex: print (d.get (1)) = Nehaal\n",
    "\n",
    "-> Change or add element: - Dictiomaly are mutable. we can add or change elements.\n",
    "\n",
    "-> change or update value: d[i] = 'Vivan'\n",
    "\n",
    "Add: d[3]='Robo'\n",
    "\n",
    "-> Deleting on clement:-\n",
    "\n",
    "Ex: print(d.pop(2))→ Vedhamch\n",
    "\n",
    "@popitem():-Ex: print(d.popitem()) (1, Nchaul)\n",
    "\n",
    "del:- del d[i] delete (1, Nchaul) paie\n",
    "\n",
    "clear:- Remove all elements.\n",
    "\n",
    "d.clear()\n",
    "\n",
    "-> you want to change all keys, you can use zip()\n",
    "\n",
    "-> The update() method allows you to add multiple key-value pairs at once\n",
    "\n",
    "\n",
    "\n"
   ]
  },
  {
   "cell_type": "code",
   "execution_count": 3,
   "id": "960e9ad3-7b69-4f8e-a870-6b7a39d530cb",
   "metadata": {},
   "outputs": [],
   "source": [
    "EMP = {1:'apply',2:'orane',2:234}"
   ]
  },
  {
   "cell_type": "code",
   "execution_count": 6,
   "id": "fdac9da2-2df0-4a69-bf6a-a52d0fc64a9a",
   "metadata": {},
   "outputs": [
    {
     "data": {
      "text/plain": [
       "234"
      ]
     },
     "execution_count": 6,
     "metadata": {},
     "output_type": "execute_result"
    }
   ],
   "source": [
    "# Remove value \n",
    "EMP.pop(2)"
   ]
  },
  {
   "cell_type": "code",
   "execution_count": 7,
   "id": "950f89f9-603f-4ce7-bb36-d9008345f705",
   "metadata": {},
   "outputs": [
    {
     "data": {
      "text/plain": [
       "{1: 'apply'}"
      ]
     },
     "execution_count": 7,
     "metadata": {},
     "output_type": "execute_result"
    }
   ],
   "source": [
    "EMP"
   ]
  },
  {
   "cell_type": "code",
   "execution_count": 10,
   "id": "b59cdf90-f1dd-4e8b-af1c-e8bace82b2be",
   "metadata": {},
   "outputs": [],
   "source": [
    "#Add value \n",
    "EMP[2] = 'orange'"
   ]
  },
  {
   "cell_type": "code",
   "execution_count": 11,
   "id": "0b55bee8-137f-467a-b25b-0e2a7f6abf97",
   "metadata": {},
   "outputs": [
    {
     "data": {
      "text/plain": [
       "{1: 'apply', 2: 'orange'}"
      ]
     },
     "execution_count": 11,
     "metadata": {},
     "output_type": "execute_result"
    }
   ],
   "source": [
    "EMP"
   ]
  },
  {
   "cell_type": "code",
   "execution_count": 12,
   "id": "e6a0bab1-5695-444a-be28-bffe4074af5b",
   "metadata": {},
   "outputs": [],
   "source": [
    "EMP[3] = 546"
   ]
  },
  {
   "cell_type": "code",
   "execution_count": 13,
   "id": "8fd97704-d412-4d99-ba51-0c7b556aa151",
   "metadata": {},
   "outputs": [
    {
     "data": {
      "text/plain": [
       "{1: 'apply', 2: 'orange', 3: 546}"
      ]
     },
     "execution_count": 13,
     "metadata": {},
     "output_type": "execute_result"
    }
   ],
   "source": [
    "EMP"
   ]
  },
  {
   "cell_type": "code",
   "execution_count": 22,
   "id": "b31d2f74-6e9a-4eed-a198-d5aed0d50c7a",
   "metadata": {},
   "outputs": [],
   "source": [
    "# Delete a key - Example\n",
    "del EMP[1]\n"
   ]
  },
  {
   "cell_type": "code",
   "execution_count": 23,
   "id": "294fabc5-a4b5-4f4e-8331-5cbd0f4dc55e",
   "metadata": {},
   "outputs": [
    {
     "data": {
      "text/plain": [
       "{2: 'orange', 3: 546}"
      ]
     },
     "execution_count": 23,
     "metadata": {},
     "output_type": "execute_result"
    }
   ],
   "source": [
    "EMP"
   ]
  },
  {
   "cell_type": "code",
   "execution_count": 29,
   "id": "15c0b7cb-a0f2-42c4-86a0-1daf816880da",
   "metadata": {},
   "outputs": [],
   "source": [
    "EMP.clear()"
   ]
  },
  {
   "cell_type": "code",
   "execution_count": 30,
   "id": "5103397f-859d-48ba-bb4d-b658265989ce",
   "metadata": {},
   "outputs": [
    {
     "data": {
      "text/plain": [
       "{}"
      ]
     },
     "execution_count": 30,
     "metadata": {},
     "output_type": "execute_result"
    }
   ],
   "source": [
    "EMP"
   ]
  },
  {
   "cell_type": "code",
   "execution_count": 33,
   "id": "2be03066-853d-4ab5-b602-32c37eb24a0c",
   "metadata": {},
   "outputs": [],
   "source": [
    "emp = {'first_name': 'Tim', 'last_name': 'Cook', 'emp_id': 200, 'bill': 200.20}\n",
    "\n"
   ]
  },
  {
   "cell_type": "code",
   "execution_count": 34,
   "id": "21d37396-11bd-42be-89a1-31301419fa49",
   "metadata": {},
   "outputs": [
    {
     "data": {
      "text/plain": [
       "{'first_name': 'Tim', 'last_name': 'Cook', 'emp_id': 200, 'bill': 200.2}"
      ]
     },
     "execution_count": 34,
     "metadata": {},
     "output_type": "execute_result"
    }
   ],
   "source": [
    "emp"
   ]
  },
  {
   "cell_type": "code",
   "execution_count": 37,
   "id": "8f6c93c1-02d1-47f1-9f64-09405e35ced5",
   "metadata": {},
   "outputs": [],
   "source": [
    "emp[1] = 'Tillu'"
   ]
  },
  {
   "cell_type": "code",
   "execution_count": 38,
   "id": "3448ddb5-ff3f-497e-9cb2-8257ef88f392",
   "metadata": {},
   "outputs": [
    {
     "data": {
      "text/plain": [
       "{'first_name': 'Tim',\n",
       " 'last_name': 'Cook',\n",
       " 'emp_id': 200,\n",
       " 'bill': 200.2,\n",
       " 'first_name ': 'Tillu',\n",
       " 1: 'Tillu'}"
      ]
     },
     "execution_count": 38,
     "metadata": {},
     "output_type": "execute_result"
    }
   ],
   "source": [
    "emp"
   ]
  },
  {
   "cell_type": "code",
   "execution_count": 44,
   "id": "4fc2f5bd-e585-4718-bedd-4b8d0ae3f4ba",
   "metadata": {},
   "outputs": [
    {
     "data": {
      "text/plain": [
       "{'first_name': 'Tim',\n",
       " 'last_name': 'Cook',\n",
       " 'emp_id': 200,\n",
       " 'bill': 200.2,\n",
       " 'first_name ': 'Tillu',\n",
       " 1: 'Tillu'}"
      ]
     },
     "execution_count": 44,
     "metadata": {},
     "output_type": "execute_result"
    }
   ],
   "source": [
    "emp"
   ]
  },
  {
   "cell_type": "code",
   "execution_count": 49,
   "id": "315f8a44-539b-4656-adea-c4271682a49b",
   "metadata": {},
   "outputs": [],
   "source": [
    "del emp[1]"
   ]
  },
  {
   "cell_type": "code",
   "execution_count": 50,
   "id": "3918bd38-18dd-4acc-9a27-9d8820407248",
   "metadata": {},
   "outputs": [
    {
     "data": {
      "text/plain": [
       "{'first_name': 'Tim',\n",
       " 'last_name': 'Cook',\n",
       " 'emp_id': 200,\n",
       " 'bill': 200.2,\n",
       " 'first_name ': 'Tillu'}"
      ]
     },
     "execution_count": 50,
     "metadata": {},
     "output_type": "execute_result"
    }
   ],
   "source": [
    "emp"
   ]
  },
  {
   "cell_type": "code",
   "execution_count": 53,
   "id": "e8946409-22c2-495c-bddc-ba163b4f3c23",
   "metadata": {},
   "outputs": [],
   "source": [
    "del emp['last_name']"
   ]
  },
  {
   "cell_type": "code",
   "execution_count": 54,
   "id": "132e6260-6fa3-4299-af94-deafdb414968",
   "metadata": {},
   "outputs": [
    {
     "data": {
      "text/plain": [
       "{'first_name': 'Tim', 'emp_id': 200, 'bill': 200.2, 'first_name ': 'Tillu'}"
      ]
     },
     "execution_count": 54,
     "metadata": {},
     "output_type": "execute_result"
    }
   ],
   "source": [
    "emp"
   ]
  },
  {
   "cell_type": "code",
   "execution_count": 56,
   "id": "faea1394-77fe-4ce9-9c69-08c3dbbde10a",
   "metadata": {},
   "outputs": [],
   "source": [
    "ini_dict = {'nikhil': 1, 'vashu': 5, 'manjeet': 10, 'akshat': 15}\n",
    "ini_list = ['a', 'b',  'c', 'd']\n",
    "final_dict = dict(zip(ini_list, list(ini_dict.values())))\n"
   ]
  },
  {
   "cell_type": "code",
   "execution_count": 57,
   "id": "a6cba4d0-27fa-4672-ae2e-b75d14b77ccd",
   "metadata": {},
   "outputs": [
    {
     "data": {
      "text/plain": [
       "{'a': 1, 'b': 5, 'c': 10, 'd': 15}"
      ]
     },
     "execution_count": 57,
     "metadata": {},
     "output_type": "execute_result"
    }
   ],
   "source": [
    "final_dict"
   ]
  },
  {
   "cell_type": "code",
   "execution_count": 58,
   "id": "1b284d9a-b8ab-46d0-88c5-550651f534e7",
   "metadata": {},
   "outputs": [],
   "source": [
    "my_dict = {'key1': 'geeks', 'key2': 'for'}\n",
    "my_dict['key3'] = 'Geeks'\n",
    "my_dict['key4'] = 'is'\n",
    "my_dict['key5'] = 'portal'\n",
    "my_dict['key6'] = 'Computer'\n"
   ]
  },
  {
   "cell_type": "code",
   "execution_count": 59,
   "id": "6deb2658-da02-48ca-a8aa-247f17520aa6",
   "metadata": {},
   "outputs": [
    {
     "data": {
      "text/plain": [
       "{'key1': 'geeks',\n",
       " 'key2': 'for',\n",
       " 'key3': 'Geeks',\n",
       " 'key4': 'is',\n",
       " 'key5': 'portal',\n",
       " 'key6': 'Computer'}"
      ]
     },
     "execution_count": 59,
     "metadata": {},
     "output_type": "execute_result"
    }
   ],
   "source": [
    "my_dict"
   ]
  },
  {
   "cell_type": "code",
   "execution_count": 60,
   "id": "89cef06b-70ec-426f-8251-8d5c4aaaee3b",
   "metadata": {},
   "outputs": [],
   "source": [
    "my_dict = {'key1': 'geeks', 'key2': 'for'}\n",
    "new_dict = {'key3': 'geeks', 'key4': 'is', 'key5': 'fabulous'}\n",
    "my_dict.update(newkey1='portal')\n"
   ]
  },
  {
   "cell_type": "code",
   "execution_count": 61,
   "id": "e5e28687-eb71-47ac-852b-0f7e3145dbfc",
   "metadata": {
    "collapsed": true,
    "jupyter": {
     "outputs_hidden": true
    }
   },
   "outputs": [
    {
     "data": {
      "text/plain": [
       "{'key1': 'geeks', 'key2': 'for', 'newkey1': 'portal'}"
      ]
     },
     "execution_count": 61,
     "metadata": {},
     "output_type": "execute_result"
    }
   ],
   "source": [
    "my_dict"
   ]
  },
  {
   "cell_type": "code",
   "execution_count": 62,
   "id": "1e4d8dd7-60e1-4c0c-8c6e-da2338fba2d3",
   "metadata": {},
   "outputs": [],
   "source": [
    "my_dict.update(emp = 'newjoin')"
   ]
  },
  {
   "cell_type": "code",
   "execution_count": 63,
   "id": "1c2def7f-1c6a-4a21-b6a1-5d894aae38cc",
   "metadata": {},
   "outputs": [
    {
     "data": {
      "text/plain": [
       "{'key1': 'geeks', 'key2': 'for', 'newkey1': 'portal', 'emp': 'newjoin'}"
      ]
     },
     "execution_count": 63,
     "metadata": {},
     "output_type": "execute_result"
    }
   ],
   "source": [
    "my_dict"
   ]
  },
  {
   "cell_type": "code",
   "execution_count": null,
   "id": "84dfa9be-c369-4425-8571-9b06fbccf875",
   "metadata": {},
   "outputs": [],
   "source": [
    "class MyDictionary(dict):\n",
    "    def add(self, key, value):\n",
    "        self[key] = value\n",
    "\n",
    "obj = MyDictionary()\n",
    "obj.key = input(\"Enter the key: \")\n",
    "obj.value = input(\"Enter the value: \")\n",
    "obj.add(2, 'forGeeks')\n"
   ]
  },
  {
   "cell_type": "code",
   "execution_count": null,
   "id": "6ff494e3-b507-416c-a7f0-8f925ed8adc7",
   "metadata": {},
   "outputs": [],
   "source": []
  }
 ],
 "metadata": {
  "kernelspec": {
   "display_name": "Python 3 (ipykernel)",
   "language": "python",
   "name": "python3"
  },
  "language_info": {
   "codemirror_mode": {
    "name": "ipython",
    "version": 3
   },
   "file_extension": ".py",
   "mimetype": "text/x-python",
   "name": "python",
   "nbconvert_exporter": "python",
   "pygments_lexer": "ipython3",
   "version": "3.11.4"
  }
 },
 "nbformat": 4,
 "nbformat_minor": 5
}
