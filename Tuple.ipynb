{
 "cells": [
  {
   "cell_type": "markdown",
   "id": "26a3af14-dcb3-4dd2-ada3-a0840010599f",
   "metadata": {},
   "source": [
    "# Tuples\n",
    "\n",
    "→ It is used to represent group of elements into a single entity or object.\n",
    "\n",
    "→A Tuple is a container, Used to store collection of different type of data items.\n",
    "\n",
    "Creating a Tuple:- A Tuple is created by placing all the items inside a parenthesis, Separated by Comma.\n",
    "\n",
    "Ex: My-Tuple(10, \"robo\", 99.85)\n",
    "\n",
    "Advantages of Tuple over list :-\n",
    "\n",
    "1. Generally we use tuples for heterogeneous datatypes and list for homogeneous data type\n",
    "\n",
    "2. Tuples are immutable. iterating through Tuple is faster than with list.\n",
    "\n",
    "3. Due to the property of immutability, Tuples can be used as a dictionary-key and also while dealing with object groups.\n",
    "\n",
    "Accessing Elements in a Tuple: There are various ways in which we can accels the elements of a tuples.\n",
    "\n",
    "i) Indexing\n",
    "\n",
    "ii) Negative indexing\n",
    "\n",
    "iii) slicing"
   ]
  },
  {
   "cell_type": "code",
   "execution_count": 2,
   "id": "1773871f-971d-4440-be4c-2726bb605516",
   "metadata": {},
   "outputs": [],
   "source": [
    "mytuple = ('Hello',22,'apply')"
   ]
  },
  {
   "cell_type": "code",
   "execution_count": 3,
   "id": "5c28bac7-ef22-4751-b233-2170f736696e",
   "metadata": {},
   "outputs": [
    {
     "name": "stdout",
     "output_type": "stream",
     "text": [
      "('Hello', 22, 'apply')\n"
     ]
    }
   ],
   "source": [
    "print(mytuple)"
   ]
  },
  {
   "cell_type": "code",
   "execution_count": 4,
   "id": "74211aae-edfd-45bf-9d5e-6f728f5f16d7",
   "metadata": {},
   "outputs": [
    {
     "data": {
      "text/plain": [
       "tuple"
      ]
     },
     "execution_count": 4,
     "metadata": {},
     "output_type": "execute_result"
    }
   ],
   "source": [
    "type(mytuple)"
   ]
  },
  {
   "cell_type": "code",
   "execution_count": 5,
   "id": "e8ea8356-73d2-4966-aae2-77f2b8b7f8ad",
   "metadata": {},
   "outputs": [
    {
     "data": {
      "text/plain": [
       "22"
      ]
     },
     "execution_count": 5,
     "metadata": {},
     "output_type": "execute_result"
    }
   ],
   "source": [
    "#indexing\n",
    "mytuple[1]"
   ]
  },
  {
   "cell_type": "code",
   "execution_count": 6,
   "id": "ca0d40e1-8704-4d0b-aa33-9e6c71231600",
   "metadata": {},
   "outputs": [
    {
     "data": {
      "text/plain": [
       "'apply'"
      ]
     },
     "execution_count": 6,
     "metadata": {},
     "output_type": "execute_result"
    }
   ],
   "source": [
    "# Negative indexing\n",
    "mytuple[-1]"
   ]
  },
  {
   "cell_type": "code",
   "execution_count": 7,
   "id": "c21366db-c688-4441-af05-beb465867d3f",
   "metadata": {},
   "outputs": [
    {
     "data": {
      "text/plain": [
       "('Hello', 22)"
      ]
     },
     "execution_count": 7,
     "metadata": {},
     "output_type": "execute_result"
    }
   ],
   "source": [
    "# slicing\n",
    "mytuple[0:2]"
   ]
  },
  {
   "cell_type": "code",
   "execution_count": 13,
   "id": "fcde02b0-dc9b-47db-83fc-fcb003dd6121",
   "metadata": {},
   "outputs": [],
   "source": [
    "mytuple2 = \"Hello\","
   ]
  },
  {
   "cell_type": "code",
   "execution_count": 12,
   "id": "b347d09a-dff6-441c-b76f-8d1805da88c6",
   "metadata": {},
   "outputs": [
    {
     "data": {
      "text/plain": [
       "str"
      ]
     },
     "execution_count": 12,
     "metadata": {},
     "output_type": "execute_result"
    }
   ],
   "source": [
    "type(mytuple2)"
   ]
  },
  {
   "cell_type": "code",
   "execution_count": null,
   "id": "8cec7d0a-4e09-4606-a4f1-845666707b04",
   "metadata": {},
   "outputs": [],
   "source": []
  }
 ],
 "metadata": {
  "kernelspec": {
   "display_name": "Python 3 (ipykernel)",
   "language": "python",
   "name": "python3"
  },
  "language_info": {
   "codemirror_mode": {
    "name": "ipython",
    "version": 3
   },
   "file_extension": ".py",
   "mimetype": "text/x-python",
   "name": "python",
   "nbconvert_exporter": "python",
   "pygments_lexer": "ipython3",
   "version": "3.11.4"
  }
 },
 "nbformat": 4,
 "nbformat_minor": 5
}
