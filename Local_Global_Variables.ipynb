{
 "cells": [
  {
   "cell_type": "markdown",
   "id": "5ab6f3f5-aecc-4bd6-8476-35f927193eae",
   "metadata": {},
   "source": [
    "# Types of Variables in python\n",
    "\n",
    "Variable: It is a name of storage location\n",
    "\n",
    "\n",
    "\n",
    "# Local Variables: - \n",
    "1. The variables defined within the body of a function or a block are called Local variables.\n",
    "\n",
    "2. The scope of local variable is local to that particular function or block in which it is defined.\n",
    "\n",
    "3. Scope: Limited to the function where it is defined.\n",
    "\n",
    "# Global Variables:\n",
    "1. The variable defined outside of any function are called Global Variables.\n",
    "\n",
    "2. The Scope of global variable is global i.e they are accessible through out the program.\n",
    "\n",
    "3. these variables can be accessed by all the functions in the program."
   ]
  },
  {
   "cell_type": "markdown",
   "id": "7c371262-103b-4ca2-98cf-386f129fbbb8",
   "metadata": {},
   "source": [
    "# Key Points\n",
    "1. Local variables are created when the function is called and destroyed when the function exits.\n",
    "Global variables exist for the duration of the program.\n",
    "\n",
    "\n",
    "2. If a variable with the same name is defined both globally and locally, the local variable will take precedence inside the function."
   ]
  },
  {
   "cell_type": "markdown",
   "id": "5e0c4a5d-251d-4809-8bf1-1942287769a6",
   "metadata": {},
   "source": [
    "# Using the global Keyword\n",
    "Purpose: To modify a global variable inside a function."
   ]
  },
  {
   "cell_type": "code",
   "execution_count": 1,
   "id": "09d3d18d-eed2-4ed4-9c0b-ec2a22ce8b64",
   "metadata": {},
   "outputs": [
    {
     "name": "stdout",
     "output_type": "stream",
     "text": [
      "I am local\n"
     ]
    },
    {
     "ename": "NameError",
     "evalue": "name 'local_var' is not defined",
     "output_type": "error",
     "traceback": [
      "\u001b[0;31m---------------------------------------------------------------------------\u001b[0m",
      "\u001b[0;31mNameError\u001b[0m                                 Traceback (most recent call last)",
      "Cell \u001b[0;32mIn[1], line 8\u001b[0m\n\u001b[1;32m      5\u001b[0m     \u001b[38;5;28mprint\u001b[39m(local_var)\n\u001b[1;32m      7\u001b[0m my_function()  \n\u001b[0;32m----> 8\u001b[0m \u001b[38;5;28mprint\u001b[39m(\u001b[43mlocal_var\u001b[49m)  \n",
      "\u001b[0;31mNameError\u001b[0m: name 'local_var' is not defined"
     ]
    }
   ],
   "source": [
    "# Local Variables\n",
    "\n",
    "def my_function():\n",
    "    local_var = \"I am local\"\n",
    "    print(local_var)\n",
    "\n",
    "my_function()  \n",
    "print(local_var)  \n"
   ]
  },
  {
   "cell_type": "code",
   "execution_count": 2,
   "id": "d30a2043-b22e-4eae-b4cd-b1c65b1cce6b",
   "metadata": {},
   "outputs": [
    {
     "name": "stdout",
     "output_type": "stream",
     "text": [
      "I am global\n",
      "I am global\n"
     ]
    }
   ],
   "source": [
    "# Global Variables\n",
    "global_var = \"I am global\"\n",
    "\n",
    "def my_function():\n",
    "    print(global_var)\n",
    "\n",
    "my_function() \n",
    "print(global_var) \n"
   ]
  },
  {
   "cell_type": "code",
   "execution_count": 3,
   "id": "fb9c3bb1-2343-4e58-b33a-448bbdbeed54",
   "metadata": {},
   "outputs": [
    {
     "name": "stdout",
     "output_type": "stream",
     "text": [
      "I have been modified\n",
      "I have been modified\n"
     ]
    }
   ],
   "source": [
    "'''\n",
    "Using the global Keyword\n",
    "Purpose:-To modify a global variable \n",
    "inside a function.\n",
    "'''\n",
    "global_var = \"I am global\"\n",
    "\n",
    "def my_function():\n",
    "    global global_var\n",
    "    global_var = \"I have been modified\"\n",
    "    print(global_var)\n",
    "\n",
    "my_function()  \n",
    "print(global_var)  \n"
   ]
  },
  {
   "cell_type": "code",
   "execution_count": null,
   "id": "be9ea063-1042-4bbd-8a76-ef43671b5b6a",
   "metadata": {},
   "outputs": [],
   "source": []
  }
 ],
 "metadata": {
  "kernelspec": {
   "display_name": "Python 3 (ipykernel)",
   "language": "python",
   "name": "python3"
  },
  "language_info": {
   "codemirror_mode": {
    "name": "ipython",
    "version": 3
   },
   "file_extension": ".py",
   "mimetype": "text/x-python",
   "name": "python",
   "nbconvert_exporter": "python",
   "pygments_lexer": "ipython3",
   "version": "3.11.4"
  }
 },
 "nbformat": 4,
 "nbformat_minor": 5
}
