{
 "cells": [
  {
   "cell_type": "markdown",
   "id": "0cb456be-418a-49f4-9f5b-2c2a12edb593",
   "metadata": {},
   "source": [
    "# Operation \n",
    "\n",
    "Arithmetic Operators:\n",
    "These operators perform mathematical operations on variables and values.\n",
    "Examples:\n",
    "Addition:\n",
    "5 + 2 = 7\n",
    "\n",
    "\n",
    "Subtraction:\n",
    "4 − 2 = 2\n",
    "\n",
    "\n",
    "Multiplication:\n",
    "2 × 3 = 6\n",
    "\n",
    "\n",
    "Division:\n",
    "4 / 2 = 2\n",
    "\n",
    "Floor Division:\n",
    "10// 3 =3\n",
    "\n",
    "\n",
    "Modulo (Remainder):\n",
    "5 % 2 = 1\n",
    "\n",
    "\n"
   ]
  },
  {
   "cell_type": "code",
   "execution_count": 1,
   "id": "02eaa218-a613-4991-b62c-3a31ad22e444",
   "metadata": {},
   "outputs": [
    {
     "name": "stdout",
     "output_type": "stream",
     "text": [
      "Sum: 9\n",
      "Subtraction: 5\n",
      "Multiplication: 14\n",
      "Division: 3.5\n",
      "Floor Division: 3\n",
      "Modulo: 1\n",
      "Power: 49\n"
     ]
    }
   ],
   "source": [
    "a = 7\n",
    "b = 2\n",
    "print('Sum:', a + b)\n",
    "print('Subtraction:', a - b)\n",
    "print('Multiplication:', a * b)\n",
    "print('Division:', a / b)\n",
    "print('Floor Division:', a // b)\n",
    "print('Modulo:', a % b)\n",
    "print('Power:', a ** b)\n"
   ]
  },
  {
   "cell_type": "markdown",
   "id": "a8a688b6-137d-409a-adba-0d6c8bf89dc3",
   "metadata": {},
   "source": [
    "# Assignment Operators:\n",
    "These operators assign values to variables.\n",
    "Examples:\n",
    "Assign 5 to variable x: x = 5\n",
    "Other assignment operators: +=, -=, *=, /=, %=, **="
   ]
  },
  {
   "cell_type": "code",
   "execution_count": 2,
   "id": "c34d49c6-931a-456a-b957-642985bb7068",
   "metadata": {},
   "outputs": [
    {
     "name": "stdout",
     "output_type": "stream",
     "text": [
      "15\n"
     ]
    }
   ],
   "source": [
    "a = 10\n",
    "b = 5\n",
    "a += b  # Equivalent to: a = a + b\n",
    "print(a)  # Output: 15\n"
   ]
  },
  {
   "cell_type": "markdown",
   "id": "7fb2b531-836b-4815-9c2e-7037c983f021",
   "metadata": {},
   "source": [
    "# Comparison Operators"
   ]
  },
  {
   "cell_type": "markdown",
   "id": "7192e61c-594c-4072-b7d8-390d21793d35",
   "metadata": {},
   "source": [
    "These operators compare two values and return True or False.\n",
    "Examples:\n",
    "Is Equal To: 3 == 5 (False)\n",
    "Not Equal To: 3 != 5 (True)\n",
    "Greater Than: 3 > 5 (False)\n",
    "Less Than: 3 < 5 (True)\n",
    "Greater Than or Equal To: 3 >= 5 (False)\n",
    "Less Than or Equal To: 3 <= 5 (True)"
   ]
  },
  {
   "cell_type": "code",
   "execution_count": 3,
   "id": "cd0e921e-84d0-4473-8f36-f19bf731a792",
   "metadata": {},
   "outputs": [
    {
     "name": "stdout",
     "output_type": "stream",
     "text": [
      "True\n"
     ]
    }
   ],
   "source": [
    "a = 5\n",
    "b = 2\n",
    "print(a > b)  \n"
   ]
  },
  {
   "cell_type": "markdown",
   "id": "1367ab08-b44b-4d89-808a-c83591fa87f6",
   "metadata": {},
   "source": [
    "# Python Logical Operators\n",
    "\n",
    "* Logical operators are used to check whether an expression is True or False. They are used in decision-making. For example\n",
    "\n",
    "* Here, and is the logical operator AND. Since both a > 2 and b >= 6 are True, the result is True\n",
    "\n",
    "* and\n",
    "\n",
    "a and b\n",
    "\n",
    "Logical AND:\n",
    "True only if both the operands are True\n",
    "\n",
    "* or\n",
    "\n",
    "a or b\n",
    "\n",
    "Logical OR:\n",
    "True if at least one of the operands is True\n",
    "\n",
    "* not\n",
    "\n",
    "not a\t\n",
    "\n",
    "Logical NOT:\n",
    "True if the operand is False and vice-versa\n",
    "\n",
    "\n"
   ]
  },
  {
   "cell_type": "code",
   "execution_count": 4,
   "id": "e33d0395-c34d-453a-9d88-fed2d0b7a367",
   "metadata": {},
   "outputs": [
    {
     "name": "stdout",
     "output_type": "stream",
     "text": [
      "True\n"
     ]
    }
   ],
   "source": [
    "a = 5\n",
    "b = 6\n",
    "\n",
    "print((a > 2) and (b >= 6))    "
   ]
  },
  {
   "cell_type": "code",
   "execution_count": 5,
   "id": "1ae03c7b-4b4e-43a8-8254-9230da57a7b9",
   "metadata": {},
   "outputs": [
    {
     "name": "stdout",
     "output_type": "stream",
     "text": [
      "True\n"
     ]
    }
   ],
   "source": [
    "a = 5\n",
    "b = 6\n",
    "\n",
    "print((a > 2) or (b >= 6))    "
   ]
  },
  {
   "cell_type": "code",
   "execution_count": null,
   "id": "acbd2c4d-0f61-4faa-b5be-a7cff78ee89c",
   "metadata": {},
   "outputs": [],
   "source": [
    "# logical NOT\n",
    "print(not True)          "
   ]
  },
  {
   "cell_type": "markdown",
   "id": "728477e1-71c9-403b-99df-c57b7a586f74",
   "metadata": {},
   "source": [
    "# Bitwise operators\n",
    "Bitwise operators act on operands as if they were strings of binary digits.\n",
    "They operate bit by bit, hence the name.\n",
    "\n",
    "For example, 2 is 10 in binary, and 7 is 111.\n",
    "\n",
    "In the table below: Let x = 10 (0000 1010 in binary) and y = 4 (0000 0100 in binary)\n",
    "\n",
    "* &\tBitwise AND\n",
    "* |\tBitwise OR\n",
    "* ~\tBitwise NOT\n",
    "* ^\tBitwise XOR\n",
    "* (>>) Bitwise right shift\n",
    "* << Bitwise left shift"
   ]
  },
  {
   "cell_type": "markdown",
   "id": "3f6909d7-6274-4858-8802-2fc60bc84618",
   "metadata": {},
   "source": [
    "# Python Special operators\n",
    "Python language offers some special types of operators like the identity operator and the membership operator. They are described below with examples."
   ]
  },
  {
   "cell_type": "markdown",
   "id": "f6f04f1b-698b-46ca-9312-ddabc0cb3cb1",
   "metadata": {},
   "source": [
    "# Identity operators\n",
    "In Python, (is) and (is not) are used to check if two values are located at the same memory location.\n",
    "\n",
    "It's important to note that having two variables with equal values doesn't necessarily mean they are identical\n",
    "\n",
    "* is\n",
    "\n",
    "\n",
    "True if the operands are identical (refer to the same object)\n",
    "\n",
    "* is not\n",
    "\n",
    "True if the operands are not identical (do not refer to the same object)"
   ]
  },
  {
   "cell_type": "code",
   "execution_count": 10,
   "id": "7900776f-b037-47b8-96b8-6800ac34ae2f",
   "metadata": {},
   "outputs": [
    {
     "name": "stdout",
     "output_type": "stream",
     "text": [
      "False\n",
      "True\n",
      "False\n"
     ]
    }
   ],
   "source": [
    "x1 = 5\n",
    "y1 = 5\n",
    "x2 = 'Hello'\n",
    "y2 = 'Hello'\n",
    "x3 = [1,2,3]\n",
    "y3 = [1,2,3]\n",
    "\n",
    "print(x1 is not y1)  \n",
    "\n",
    "print(x2 is y2)  \n",
    "\n",
    "print(x3 is y3)  "
   ]
  },
  {
   "cell_type": "markdown",
   "id": "845635b2-0ef8-4c65-8cb0-f00751332ffb",
   "metadata": {},
   "source": [
    "# Membership operators\n",
    "* In Python, in and not in are the membership operators. They are used to test whether a value or variable is found in a sequence (string, list, tuple, set and dictionary).\n",
    "\n",
    "* In a dictionary, we can only test for the presence of a key, not the value.\n",
    "\n",
    "* in\n",
    "\n",
    "  True if value/variable is found in the sequence\n",
    "\n",
    "\n",
    "* not in\n",
    "\n",
    " True if value/variable is not found in the sequence\n"
   ]
  },
  {
   "cell_type": "code",
   "execution_count": 12,
   "id": "7f9daab5-bb0c-43d5-9040-86a98fd2be62",
   "metadata": {},
   "outputs": [
    {
     "name": "stdout",
     "output_type": "stream",
     "text": [
      "True\n",
      "True\n",
      "True\n",
      "False\n"
     ]
    }
   ],
   "source": [
    "message = 'Hello world'\n",
    "dict1 = {1:'a', 2:'b'}\n",
    "\n",
    "# check if 'H' is present in message string\n",
    "print('H' in message) \n",
    "\n",
    "# check if 'hello' is present in message string\n",
    "print('hello' not in message) \n",
    "\n",
    "# check if '1' key is present in dict1\n",
    "print(1 in dict1)  # \n",
    "\n",
    "# check if 'a' key is present in dict1\n",
    "print('a' in dict1) "
   ]
  },
  {
   "cell_type": "code",
   "execution_count": null,
   "id": "60fb2b11-68f7-425e-b8a1-30027f7c51b4",
   "metadata": {},
   "outputs": [],
   "source": []
  }
 ],
 "metadata": {
  "kernelspec": {
   "display_name": "Python 3 (ipykernel)",
   "language": "python",
   "name": "python3"
  },
  "language_info": {
   "codemirror_mode": {
    "name": "ipython",
    "version": 3
   },
   "file_extension": ".py",
   "mimetype": "text/x-python",
   "name": "python",
   "nbconvert_exporter": "python",
   "pygments_lexer": "ipython3",
   "version": "3.11.4"
  }
 },
 "nbformat": 4,
 "nbformat_minor": 5
}
