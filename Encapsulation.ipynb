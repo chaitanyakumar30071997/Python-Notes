{
 "cells": [
  {
   "cell_type": "markdown",
   "id": "98b0eadd-ee01-48bc-bcad-d9fe1419fc5c",
   "metadata": {},
   "source": [
    "# Encapsulation"
   ]
  },
  {
   "cell_type": "markdown",
   "id": "f04f2dca-6153-46be-a271-3a861915120e",
   "metadata": {},
   "source": [
    "1. Encapsulation is a programming Technique that binds data and corresPonding Methods (Behavior) togethet into a single unit\n",
    "2. Encapsulation provides Data Hiddind and Data Protection\n",
    "3. Data provides Through Access specifics\n",
    "# Private :- only inside the class and class method.\n",
    "# Protected:- inside the class and its immediate subclass \n",
    "# Public: - Entire program \n"
   ]
  },
  {
   "cell_type": "code",
   "execution_count": 5,
   "id": "cac6db2b-1f47-41f5-83c8-c49e74b5497a",
   "metadata": {},
   "outputs": [
    {
     "name": "stdout",
     "output_type": "stream",
     "text": [
      "Find The X value =  100\n"
     ]
    }
   ],
   "source": [
    "# Public:\n",
    "# class\n",
    "class Add():\n",
    "    \n",
    "# variables\n",
    "    x = 100 \n",
    "\n",
    "# method      \n",
    "    def AddNum(self):\n",
    "        print(\"Find The X value = \",self.x)\n",
    "        \n",
    "# object \n",
    "obj = Add()\n",
    "obj.AddNum()"
   ]
  },
  {
   "cell_type": "code",
   "execution_count": 26,
   "id": "aff2c50b-becb-4e25-8d19-259ce6550b4c",
   "metadata": {},
   "outputs": [
    {
     "name": "stdout",
     "output_type": "stream",
     "text": [
      "Find The X value =  100\n"
     ]
    }
   ],
   "source": [
    "# Protected:\n",
    "# class \n",
    "class Add():\n",
    "\n",
    "# variables\n",
    "    _x = 100\n",
    "    \n",
    "# method     \n",
    "    def AddNum(self):\n",
    "        print(\"Find The X value = \",self._x)\n",
    "        \n",
    "# object \n",
    "obj = Add()\n",
    "obj.AddNum()\n",
    "obj =obj._x"
   ]
  },
  {
   "cell_type": "code",
   "execution_count": 35,
   "id": "792d56b8-a053-4482-be5d-e0fa420d0c63",
   "metadata": {},
   "outputs": [
    {
     "name": "stdout",
     "output_type": "stream",
     "text": [
      "Find The X value =  100\n"
     ]
    }
   ],
   "source": [
    "# Private\n",
    "# class \n",
    "class Add():\n",
    "\n",
    "# variables\n",
    "    __x = 100\n",
    "    \n",
    "# method     \n",
    "    def __AddNum(self):\n",
    "        print(\"Find The X value = \",self.__x)\n",
    "        \n",
    "# object \n",
    "obj = Add()\n",
    "obj._Add__AddNum()\n",
    "\n"
   ]
  },
  {
   "cell_type": "code",
   "execution_count": 38,
   "id": "7325beb3-d264-4f13-b94a-98442c2b300c",
   "metadata": {},
   "outputs": [
    {
     "name": "stdout",
     "output_type": "stream",
     "text": [
      "Find The X value =  100\n"
     ]
    }
   ],
   "source": [
    "# Private\n",
    "# class \n",
    "class Add():\n",
    "\n",
    "# variables\n",
    "    _x = 100\n",
    "    \n",
    "# method     \n",
    "    def AddNum(self):\n",
    "        print(\"Find The X value = \",self._x)\n",
    "        \n",
    "# object \n",
    "obj = Add()\n",
    "obj.AddNum()\n",
    "\n"
   ]
  },
  {
   "cell_type": "code",
   "execution_count": null,
   "id": "67b8500c-d1e6-4f41-9c52-b2fd8e93ee0c",
   "metadata": {},
   "outputs": [],
   "source": []
  }
 ],
 "metadata": {
  "kernelspec": {
   "display_name": "Python 3 (ipykernel)",
   "language": "python",
   "name": "python3"
  },
  "language_info": {
   "codemirror_mode": {
    "name": "ipython",
    "version": 3
   },
   "file_extension": ".py",
   "mimetype": "text/x-python",
   "name": "python",
   "nbconvert_exporter": "python",
   "pygments_lexer": "ipython3",
   "version": "3.12.3"
  }
 },
 "nbformat": 4,
 "nbformat_minor": 5
}
