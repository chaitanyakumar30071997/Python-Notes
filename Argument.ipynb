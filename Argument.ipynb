{
 "cells": [
  {
   "cell_type": "markdown",
   "id": "1d7c5a09-250c-4b85-904d-6615faa11b7a",
   "metadata": {},
   "source": [
    "# Positional Arguments:- \n",
    "These are the most common type of arguments. The values are passed to the function in the same order as the parameters are defined.\n",
    "\n",
    "# Keyword Arguments:- \n",
    "These arguments are passed to the function by explicitly naming each parameter and assigning it a value. This allows you to pass arguments in any order.\n",
    "\n",
    "# Default Arguments:- \n",
    "These arguments have default values that are used if no value is provided during the function call. Default arguments must follow non-default arguments in the function definition\n",
    "\n",
    "# Arbitrary Positional Arguments (*args):- \n",
    "These allow you to pass a variable number of positional arguments to a function. The arguments are received as a tuple.\n"
   ]
  },
  {
   "cell_type": "code",
   "execution_count": 5,
   "id": "30fdab78-245d-4f10-bd14-e04ff704e3df",
   "metadata": {},
   "outputs": [
    {
     "name": "stdout",
     "output_type": "stream",
     "text": [
      "50\n"
     ]
    }
   ],
   "source": [
    "# Positional Arguments\n",
    "\n",
    "def add(a , b):\n",
    "    pa = a + b\n",
    "    print (pa)\n",
    "\n",
    "add(20,30)\n",
    "    "
   ]
  },
  {
   "cell_type": "code",
   "execution_count": 8,
   "id": "c023ff6b-bd94-4461-9034-50d5048fdcf9",
   "metadata": {},
   "outputs": [
    {
     "name": "stdout",
     "output_type": "stream",
     "text": [
      "100\n",
      "40\n",
      "30\n"
     ]
    }
   ],
   "source": [
    "# Default Arguments\n",
    "\n",
    "def add(a = 10 , b = 20):\n",
    "    da = a + b \n",
    "    print (da)\n",
    "\n",
    "add(40,60)\n",
    "add (20)\n",
    "add()\n"
   ]
  },
  {
   "cell_type": "code",
   "execution_count": 13,
   "id": "f2b77b49-964c-4493-812d-7fd5106dbf82",
   "metadata": {},
   "outputs": [
    {
     "name": "stdout",
     "output_type": "stream",
     "text": [
      "15\n",
      "35\n",
      "25\n",
      "40\n"
     ]
    }
   ],
   "source": [
    "# Keyword Arguments\n",
    "\n",
    "def add (x , y = 10, z = 20):\n",
    "    ka = x + y + z\n",
    "    print (ka)\n",
    "\n",
    "\n",
    "add(5,5,5)\n",
    "add(5 , y = 10)\n",
    "add (5, z = 10)\n",
    "add(10)\n",
    "    "
   ]
  },
  {
   "cell_type": "code",
   "execution_count": 14,
   "id": "5526129d-affe-46b0-9987-3bd22de8ee64",
   "metadata": {},
   "outputs": [
    {
     "name": "stdout",
     "output_type": "stream",
     "text": [
      "(10, 20, 'Hello')\n"
     ]
    }
   ],
   "source": [
    "# Arbitrary Keyword Arguments (**kwargs)\n",
    "\n",
    "def num (* no) :\n",
    "    print (no)\n",
    "\n",
    "num(10,20,'Hello')"
   ]
  },
  {
   "cell_type": "code",
   "execution_count": null,
   "id": "7c0f3c4f-d383-437d-a1c8-f197f41dfe09",
   "metadata": {},
   "outputs": [],
   "source": []
  }
 ],
 "metadata": {
  "kernelspec": {
   "display_name": "Python 3 (ipykernel)",
   "language": "python",
   "name": "python3"
  },
  "language_info": {
   "codemirror_mode": {
    "name": "ipython",
    "version": 3
   },
   "file_extension": ".py",
   "mimetype": "text/x-python",
   "name": "python",
   "nbconvert_exporter": "python",
   "pygments_lexer": "ipython3",
   "version": "3.11.4"
  }
 },
 "nbformat": 4,
 "nbformat_minor": 5
}
