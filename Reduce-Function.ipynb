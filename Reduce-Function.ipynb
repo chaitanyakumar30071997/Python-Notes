{
 "cells": [
  {
   "cell_type": "markdown",
   "id": "e09149b2-afb7-4044-81ad-8acb7e60fc49",
   "metadata": {},
   "source": [
    "# Raeduce Function\n",
    "reduce() Function in Python\n",
    "\n",
    "→ This function is used to reduce a sequence of elements to a single value by processing the elements according to a function Supplied.\n",
    "\n",
    "→ It return a single value.\n",
    "\n",
    "→ This function is a part of functools module So you have to import it before using.\n",
    "\n",
    "Syntax:- from functools mport reduce reduce (function-name, Sequence-Variable)"
   ]
  },
  {
   "cell_type": "code",
   "execution_count": 6,
   "id": "e593bbf9-51f5-4cfd-96c1-b49c6ff1d929",
   "metadata": {},
   "outputs": [
    {
     "name": "stdout",
     "output_type": "stream",
     "text": [
      "25\n"
     ]
    }
   ],
   "source": [
    "from functools import reduce\n",
    "\n",
    "# Example list\n",
    "numbers = [1, 2, 3, 4, 15]\n",
    "\n",
    "# Function to add two numbers\n",
    "def add(x, y):\n",
    "    return x + y\n",
    "\n",
    "# Using reduce to sum the list\n",
    "result = reduce(add, numbers)\n",
    "\n",
    "print(result)  \n"
   ]
  },
  {
   "cell_type": "code",
   "execution_count": 8,
   "id": "b352c2e3-4e8a-44d8-aed8-2b39cf62e118",
   "metadata": {},
   "outputs": [
    {
     "name": "stdout",
     "output_type": "stream",
     "text": [
      "apple,banana,cherry\n"
     ]
    }
   ],
   "source": [
    "from functools import reduce\n",
    "\n",
    "\n",
    "words = [\"apple\", \"banana\", \"cherry\"]\n",
    "\n",
    "\n",
    "result = reduce(lambda x, y: x + \",\" + y, words)\n",
    "\n",
    "print(result) \n"
   ]
  },
  {
   "cell_type": "code",
   "execution_count": null,
   "id": "2df81d72-d8e7-408f-a331-07c6535fbf1c",
   "metadata": {},
   "outputs": [],
   "source": []
  }
 ],
 "metadata": {
  "kernelspec": {
   "display_name": "Python 3 (ipykernel)",
   "language": "python",
   "name": "python3"
  },
  "language_info": {
   "codemirror_mode": {
    "name": "ipython",
    "version": 3
   },
   "file_extension": ".py",
   "mimetype": "text/x-python",
   "name": "python",
   "nbconvert_exporter": "python",
   "pygments_lexer": "ipython3",
   "version": "3.11.4"
  }
 },
 "nbformat": 4,
 "nbformat_minor": 5
}
