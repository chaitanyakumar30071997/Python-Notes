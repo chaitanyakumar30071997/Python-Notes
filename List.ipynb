{
 "cells": [
  {
   "cell_type": "markdown",
   "id": "8b86e236-90ec-44bf-b454-87170cb44322",
   "metadata": {},
   "source": [
    "# LIST in Python\n",
    "\n",
    "→ It is used to represent group of elements into a single entity or object.\n",
    "\n",
    "→It uses square brackets.\n",
    "\n",
    "→list is like a string, which provides Sequential Storage mechanism.\n",
    "\n",
    "→list can Contain different types of python object -standard types, objects and user-defined object \n",
    "\n",
    "→At any given time, single or multiple objects can be inserted, removed and updated to the list.\n",
    "\n",
    "→list can be grow and shrink.\n",
    "\n",
    "→list can be sorted, reversed, empty and populated.\n",
    "\n",
    "→A list can be added/removed to/from other List.\n",
    "\n",
    "→ Every element in the list object is represented with unique index.\n",
    "\n",
    "→List supports both paritive and negative index.\n",
    "\n",
    "# list objecte are  mutable objects.\n",
    "--------------------------------------------\n",
    "Python List Methods:\n",
    "\n",
    "1. append(): Add an element to the end of the list.\n",
    "\n",
    "2. insert(): Insert an element at the specified position.\n",
    "\n",
    "3. remove(): Remove an element from the list.\n",
    "\n",
    "4. pop(): Remove and returns an element at the specified position.\n",
    "\n",
    "5. clear(): Remove all the elements from the list.\n",
    "\n",
    "6. index(): Returns the index of the first matched element.\n",
    "\n",
    "7. count(): Returns the number of elements with the specified value.\n",
    "\n",
    "8. sort(): Sort the items in a list in ascending order.\n",
    "\n",
    "9. reverse(): Reverse the order of elements in the list.\n",
    "\n",
    "10.copy(): Returns a copy of the list.\n"
   ]
  },
  {
   "cell_type": "code",
   "execution_count": null,
   "id": "b544458a-e046-40ee-9e27-e903cf102ee1",
   "metadata": {},
   "outputs": [],
   "source": []
  },
  {
   "cell_type": "code",
   "execution_count": 1,
   "id": "0fd3652a-e5cb-4c29-a1ae-4d8131310e99",
   "metadata": {},
   "outputs": [],
   "source": [
    "List = [\"Hello\",123,\"Apply\",\"organge \"]"
   ]
  },
  {
   "cell_type": "code",
   "execution_count": 4,
   "id": "015fb1a2-5ac5-41b7-aff0-7c0ec3591dd3",
   "metadata": {},
   "outputs": [],
   "source": [
    "List.append(147)"
   ]
  },
  {
   "cell_type": "code",
   "execution_count": 5,
   "id": "396586c3-d995-4c7f-bd9c-e393fcd5e3ab",
   "metadata": {},
   "outputs": [
    {
     "data": {
      "text/plain": [
       "list"
      ]
     },
     "execution_count": 5,
     "metadata": {},
     "output_type": "execute_result"
    }
   ],
   "source": [
    "list"
   ]
  },
  {
   "cell_type": "code",
   "execution_count": 7,
   "id": "9668b0b7-1c58-415f-a138-8fceee6ce35c",
   "metadata": {},
   "outputs": [],
   "source": [
    "List.insert(2,'Hii')"
   ]
  },
  {
   "cell_type": "code",
   "execution_count": 8,
   "id": "4b36465d-11e7-4b7c-b8c0-5080d03c1184",
   "metadata": {},
   "outputs": [
    {
     "data": {
      "text/plain": [
       "['Hello', 123, 'Hii', 'Apply', 'organge ', 147]"
      ]
     },
     "execution_count": 8,
     "metadata": {},
     "output_type": "execute_result"
    }
   ],
   "source": [
    "List"
   ]
  },
  {
   "cell_type": "code",
   "execution_count": 9,
   "id": "5ef3ed79-61cf-4737-9205-94dc7ba579da",
   "metadata": {},
   "outputs": [],
   "source": [
    "List.remove(\"Hello\")"
   ]
  },
  {
   "cell_type": "code",
   "execution_count": 10,
   "id": "7ea98fba-0511-4237-b6a6-d06e6b3e03de",
   "metadata": {},
   "outputs": [
    {
     "data": {
      "text/plain": [
       "[123, 'Hii', 'Apply', 'organge ', 147]"
      ]
     },
     "execution_count": 10,
     "metadata": {},
     "output_type": "execute_result"
    }
   ],
   "source": [
    "List"
   ]
  },
  {
   "cell_type": "code",
   "execution_count": 12,
   "id": "63bf31c7-86cf-45e8-9d31-f285e3eb1553",
   "metadata": {},
   "outputs": [
    {
     "data": {
      "text/plain": [
       "'Hii'"
      ]
     },
     "execution_count": 12,
     "metadata": {},
     "output_type": "execute_result"
    }
   ],
   "source": [
    "List.pop(1)"
   ]
  },
  {
   "cell_type": "code",
   "execution_count": 13,
   "id": "d880f28d-7214-4ebc-8630-34f0c5cce8a0",
   "metadata": {},
   "outputs": [
    {
     "data": {
      "text/plain": [
       "[123, 'Apply', 'organge ', 147]"
      ]
     },
     "execution_count": 13,
     "metadata": {},
     "output_type": "execute_result"
    }
   ],
   "source": [
    "List"
   ]
  },
  {
   "cell_type": "code",
   "execution_count": 15,
   "id": "0716cfb9-3956-4ff7-a5f8-32b23fe127d6",
   "metadata": {},
   "outputs": [
    {
     "data": {
      "text/plain": [
       "1"
      ]
     },
     "execution_count": 15,
     "metadata": {},
     "output_type": "execute_result"
    }
   ],
   "source": [
    "List.index(\"Apply\")"
   ]
  },
  {
   "cell_type": "code",
   "execution_count": 20,
   "id": "a54f61ad-c0c8-42ff-a519-5dde600f9129",
   "metadata": {},
   "outputs": [
    {
     "data": {
      "text/plain": [
       "0"
      ]
     },
     "execution_count": 20,
     "metadata": {},
     "output_type": "execute_result"
    }
   ],
   "source": [
    "List.count('orange')"
   ]
  },
  {
   "cell_type": "code",
   "execution_count": 19,
   "id": "4fa36aba-a67d-4cb8-82d2-52046c89b686",
   "metadata": {},
   "outputs": [
    {
     "data": {
      "text/plain": [
       "1"
      ]
     },
     "execution_count": 19,
     "metadata": {},
     "output_type": "execute_result"
    }
   ],
   "source": [
    "List.count('Apply')"
   ]
  },
  {
   "cell_type": "code",
   "execution_count": 23,
   "id": "ff25388e-a98d-4a8e-a9b7-bfd8f374c675",
   "metadata": {},
   "outputs": [
    {
     "data": {
      "text/plain": [
       "[123, 'Apply', 'organge ', 147]"
      ]
     },
     "execution_count": 23,
     "metadata": {},
     "output_type": "execute_result"
    }
   ],
   "source": [
    "List"
   ]
  },
  {
   "cell_type": "code",
   "execution_count": 25,
   "id": "b2c54b9a-a494-41d7-9bc1-1d250a667951",
   "metadata": {},
   "outputs": [],
   "source": [
    "List.remove(123)"
   ]
  },
  {
   "cell_type": "code",
   "execution_count": 26,
   "id": "b176e49c-7c84-43f7-978e-1aba5841725c",
   "metadata": {},
   "outputs": [],
   "source": [
    "List.remove(147)"
   ]
  },
  {
   "cell_type": "code",
   "execution_count": 27,
   "id": "259518ec-e8d0-4c53-8718-6826e62cdcd9",
   "metadata": {},
   "outputs": [
    {
     "data": {
      "text/plain": [
       "['Apply', 'organge ']"
      ]
     },
     "execution_count": 27,
     "metadata": {},
     "output_type": "execute_result"
    }
   ],
   "source": [
    "List"
   ]
  },
  {
   "cell_type": "code",
   "execution_count": 29,
   "id": "e81b8ede-6d66-4f49-8ca2-ef9ff9739229",
   "metadata": {},
   "outputs": [
    {
     "name": "stdout",
     "output_type": "stream",
     "text": [
      "['apple', 'banana', 'cherry']\n"
     ]
    }
   ],
   "source": [
    "fruits = ['cherry', 'banana', 'apple']\n",
    "fruits.sort()\n",
    "print(fruits)  # Output: ['apple', 'banana', 'cherry']\n"
   ]
  },
  {
   "cell_type": "code",
   "execution_count": 30,
   "id": "62dfcce7-2b46-4e1e-bb1b-0b9e0e56e5a9",
   "metadata": {},
   "outputs": [],
   "source": [
    "List.sort()"
   ]
  },
  {
   "cell_type": "code",
   "execution_count": 31,
   "id": "bff67288-708f-47b2-8c18-e9c06a9c0aa8",
   "metadata": {},
   "outputs": [
    {
     "data": {
      "text/plain": [
       "['Apply', 'organge ']"
      ]
     },
     "execution_count": 31,
     "metadata": {},
     "output_type": "execute_result"
    }
   ],
   "source": [
    "List"
   ]
  },
  {
   "cell_type": "code",
   "execution_count": 32,
   "id": "064725c5-7f70-4901-a898-c5a250266f80",
   "metadata": {},
   "outputs": [
    {
     "name": "stdout",
     "output_type": "stream",
     "text": [
      "['apple', 'banana', 'cherry']\n"
     ]
    }
   ],
   "source": [
    "fruits = ['apple', 'banana', 'cherry']\n",
    "fruits_copy = fruits.copy()\n",
    "print(fruits_copy)  \n"
   ]
  },
  {
   "cell_type": "code",
   "execution_count": null,
   "id": "3cb6a7aa-f03e-4294-bab3-d9d787eeb0f0",
   "metadata": {},
   "outputs": [],
   "source": []
  }
 ],
 "metadata": {
  "kernelspec": {
   "display_name": "Python 3 (ipykernel)",
   "language": "python",
   "name": "python3"
  },
  "language_info": {
   "codemirror_mode": {
    "name": "ipython",
    "version": 3
   },
   "file_extension": ".py",
   "mimetype": "text/x-python",
   "name": "python",
   "nbconvert_exporter": "python",
   "pygments_lexer": "ipython3",
   "version": "3.12.3"
  }
 },
 "nbformat": 4,
 "nbformat_minor": 5
}
