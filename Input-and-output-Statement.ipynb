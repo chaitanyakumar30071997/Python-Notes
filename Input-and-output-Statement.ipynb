{
 "cells": [
  {
   "cell_type": "markdown",
   "id": "c947f293-0057-4169-83c6-f1cd2293ffa0",
   "metadata": {},
   "source": [
    "# Input and output Statements in Python\n",
    "\n",
    "→Python Input and output statements are used to read and write the data value\n",
    "\n",
    "From and to the imput and output devices respectively.\n",
    "\n",
    "1. Input statement: - The input statement helps to enter data at runtime by the usel.\n",
    "\n",
    "input(): It is a buit. in function Used to read the input from the console by using the standard input device (Keyboard).\n",
    "\n",
    "Syntax: Variable-name = input(\" prompt\")\n",
    "\n",
    "→prompt in a string that is displayed on the string at the time of taking imput.\n",
    "\n",
    "Ex:\n",
    "\n",
    "→ By default impute) function takes the users input in a string so, it takes the input in the form of int, you need to use mtc) along with input function.\n",
    "\n",
    "Ex:\n",
    "\n",
    "2. Output Statement: - the output statement is Used to display the result of the program on the screen after execution.\n",
    "\n",
    "Print (): It is a built-in function used to print the output on to standard output device on Console.\n",
    "\n",
    "Syntax: 1. Print(\"sting\")\n",
    "\n",
    "print (Variable)"
   ]
  },
  {
   "cell_type": "code",
   "execution_count": 2,
   "id": "341e879e-7e8a-4c40-9196-dcb69f96a359",
   "metadata": {},
   "outputs": [
    {
     "name": "stdin",
     "output_type": "stream",
     "text": [
      "Enter x value 43\n",
      "Enter y value 54\n"
     ]
    },
    {
     "name": "stdout",
     "output_type": "stream",
     "text": [
      "97\n"
     ]
    }
   ],
   "source": [
    "x = input('Enter x value')\n",
    "y = input ('Enter y value')\n",
    "total = int(x) + int(y)\n",
    "print (total)"
   ]
  },
  {
   "cell_type": "code",
   "execution_count": null,
   "id": "ca7c0c37-efe3-4ceb-a549-0c0cc5f83b96",
   "metadata": {},
   "outputs": [],
   "source": []
  },
  {
   "cell_type": "code",
   "execution_count": 3,
   "id": "e0af7370-7bc4-4c8c-812e-370a52546dee",
   "metadata": {},
   "outputs": [
    {
     "name": "stdin",
     "output_type": "stream",
     "text": [
      "Enter x value 33\n",
      "Enter y value 33\n"
     ]
    },
    {
     "name": "stdout",
     "output_type": "stream",
     "text": [
      "66\n"
     ]
    }
   ],
   "source": [
    "x = int(input('Enter x value'))\n",
    "y = int(input ('Enter y value'))\n",
    "total = x + y\n",
    "print (total)"
   ]
  },
  {
   "cell_type": "code",
   "execution_count": null,
   "id": "15f3b039-5707-4df9-b002-719dda0618cf",
   "metadata": {},
   "outputs": [],
   "source": [
    "x, y = input().split()\n",
    "print (float(x + y))\n"
   ]
  },
  {
   "cell_type": "code",
   "execution_count": null,
   "id": "1022aef7-95b9-4323-a7d9-ec06857767fd",
   "metadata": {},
   "outputs": [],
   "source": []
  }
 ],
 "metadata": {
  "kernelspec": {
   "display_name": "Python 3 (ipykernel)",
   "language": "python",
   "name": "python3"
  },
  "language_info": {
   "codemirror_mode": {
    "name": "ipython",
    "version": 3
   },
   "file_extension": ".py",
   "mimetype": "text/x-python",
   "name": "python",
   "nbconvert_exporter": "python",
   "pygments_lexer": "ipython3",
   "version": "3.11.4"
  }
 },
 "nbformat": 4,
 "nbformat_minor": 5
}
