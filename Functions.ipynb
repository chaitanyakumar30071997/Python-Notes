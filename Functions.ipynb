{
 "cells": [
  {
   "cell_type": "markdown",
   "id": "ce118b9a-6e19-42e9-b0a5-a5c6f422fe45",
   "metadata": {},
   "source": [
    "# Functions in Python\n",
    "\n",
    "Def: A functim is defined as a black of Code which can be used to perform an action. → function will not be executed automatically.\n",
    "\n",
    "function will be executed when ever we makes a function call.\n",
    "\n",
    "we can call one function for 'n' number of times. →Python Supports two types of functions\n",
    "\n",
    "1. Built-in functions.\n",
    "\n",
    "2. User defined functions.\n",
    "\n",
    "1. Built-in functions: the functions which comes along with python Software are known as Buit-in or pre defined functions. E: imputc(), idc), typec), len, ... etc.\n",
    "\n",
    "2. User defined functions:- the functions which are developed by the programmers explicitly according to their business requirements.\n",
    "\n",
    "Implementation of user defined function:-\n",
    "\n",
    "1. function Definition:-\n",
    "\n",
    "Syntax: def function-name (parameters):\n",
    "\n",
    "Statements\n",
    "\n",
    "return value (optional)"
   ]
  },
  {
   "cell_type": "code",
   "execution_count": 14,
   "id": "03bdee17-a358-4ec0-973d-0f3e4c2ce7b6",
   "metadata": {},
   "outputs": [],
   "source": [
    "# https://www.programiz.com/python-programming/function"
   ]
  },
  {
   "cell_type": "markdown",
   "id": "0a7d5377-a581-4295-8140-792371637303",
   "metadata": {},
   "source": [
    "# Simple Function"
   ]
  },
  {
   "cell_type": "code",
   "execution_count": 8,
   "id": "e7848afa-a448-46fa-873d-08cd0523bdb6",
   "metadata": {},
   "outputs": [
    {
     "name": "stdout",
     "output_type": "stream",
     "text": [
      "300\n"
     ]
    }
   ],
   "source": [
    "def add():\n",
    "    a = 100\n",
    "    b = 200\n",
    "    sum = a + b \n",
    "    print(sum)\n",
    "\n",
    "add()"
   ]
  },
  {
   "cell_type": "markdown",
   "id": "ca82e7ca-7da1-4f3c-8a3e-ffcbab61ee2e",
   "metadata": {},
   "source": [
    "# Function with Arguments"
   ]
  },
  {
   "cell_type": "code",
   "execution_count": 10,
   "id": "f7f3c4b1-5645-4990-8614-cf6e31aae133",
   "metadata": {},
   "outputs": [
    {
     "name": "stdout",
     "output_type": "stream",
     "text": [
      "Hello, Alice!\n"
     ]
    }
   ],
   "source": [
    "def greet(name):\n",
    "    print(f\"Hello, {name}!\")\n",
    "\n",
    "greet(\"Alice\")\n"
   ]
  },
  {
   "cell_type": "markdown",
   "id": "16352b99-d0b7-4ed5-9ffc-7a6dfdf32a36",
   "metadata": {},
   "source": [
    "# Function with Return Value"
   ]
  },
  {
   "cell_type": "code",
   "execution_count": 9,
   "id": "8eda2b7b-5102-4245-b61a-bee13c8c2cc8",
   "metadata": {},
   "outputs": [
    {
     "name": "stdout",
     "output_type": "stream",
     "text": [
      "300\n"
     ]
    }
   ],
   "source": [
    "def add (a , b ):\n",
    "    x = a\n",
    "    y = b \n",
    "    return x + y \n",
    "sum = add(100 , 200)\n",
    "print (sum)"
   ]
  },
  {
   "cell_type": "markdown",
   "id": "871a8a5d-8b03-43d9-9025-123ca0b603f0",
   "metadata": {},
   "source": [
    "# Function with Default Argument"
   ]
  },
  {
   "cell_type": "code",
   "execution_count": 15,
   "id": "152e0737-62b7-4e69-b433-eb65fc977c1f",
   "metadata": {},
   "outputs": [
    {
     "name": "stdout",
     "output_type": "stream",
     "text": [
      "Name: John, Salary: 50000\n",
      "Name: Jane, Salary: 60000\n",
      "Name: laxmi, Salary: 2000\n"
     ]
    }
   ],
   "source": [
    "def show_employee(name, salary=50000):\n",
    "    print(f\"Name: {name}, Salary: {salary}\")\n",
    "\n",
    "show_employee(\"John\")\n",
    "show_employee(\"Jane\", 60000)\n",
    "show_employee(\"laxmi\",2000)\n"
   ]
  },
  {
   "cell_type": "markdown",
   "id": "4ce01741-9f43-4df9-92b3-dc9eae379aa7",
   "metadata": {},
   "source": [
    "# Recursive Function"
   ]
  },
  {
   "cell_type": "code",
   "execution_count": 12,
   "id": "558ebf0d-cc07-43f9-b393-9f6ea0d2f748",
   "metadata": {},
   "outputs": [
    {
     "name": "stdout",
     "output_type": "stream",
     "text": [
      "120\n"
     ]
    }
   ],
   "source": [
    "def factorial(n):\n",
    "    if n == 1:\n",
    "        return 1\n",
    "    else:\n",
    "        return n * factorial(n - 1)\n",
    "\n",
    "print(factorial(5))  \n"
   ]
  },
  {
   "cell_type": "markdown",
   "id": "f0f9668b-3dc0-4d00-814e-53982e2fc4c0",
   "metadata": {},
   "source": [
    "# Function with Variable Length Arguments"
   ]
  },
  {
   "cell_type": "code",
   "execution_count": 13,
   "id": "5eb0ccc9-ff51-4c30-88fc-4991e936c42a",
   "metadata": {},
   "outputs": [
    {
     "name": "stdout",
     "output_type": "stream",
     "text": [
      "1\n",
      "2\n",
      "3\n",
      "4\n",
      "5\n"
     ]
    }
   ],
   "source": [
    "def print_numbers(*args):\n",
    "    for number in args:\n",
    "        print(number)\n",
    "\n",
    "print_numbers(1, 2, 3, 4, 5)"
   ]
  },
  {
   "cell_type": "code",
   "execution_count": 24,
   "id": "0d54302c-d4c8-403c-8f73-b56159b62da4",
   "metadata": {},
   "outputs": [
    {
     "name": "stdout",
     "output_type": "stream",
     "text": [
      "Chaitanya, Hyderabad,voidcarf,1005\n"
     ]
    }
   ],
   "source": [
    "class personal_details():\n",
    "    def __init__(self,Name, Location, Company,Eid):\n",
    "        self.Name = Name\n",
    "        self.Location = Location \n",
    "        self.Company = Company\n",
    "        self.Eid = Eid\n",
    "\n",
    "    \n",
    "    def details(self):\n",
    "        print(f\"{self.Name}, {self.Location},{self.Company},{self.Eid}\")\n",
    "\n",
    "\n",
    "Emp = personal_details(\"Chaitanya\",\"Hyderabad\",\"voidcarf\",1005)\n",
    "\n",
    "Emp.details()\n",
    "\n"
   ]
  },
  {
   "cell_type": "code",
   "execution_count": 16,
   "id": "8aabf104-8743-4916-9ba2-bdce5dd827d3",
   "metadata": {},
   "outputs": [
    {
     "name": "stdout",
     "output_type": "stream",
     "text": [
      "iPhone with 128GB memory and 12GB RAM, manufactured in USA\n",
      "OnePlus 8T with 128GB memory and 12GB RAM, manufactured in Japan\n"
     ]
    }
   ],
   "source": [
    "class Mobile:\n",
    "    def __init__(self, model, memory, ram, manufacturing):\n",
    "        self.model = model\n",
    "        self.memory = memory\n",
    "        self.ram = ram\n",
    "        self.manufacturing = manufacturing\n",
    "\n",
    "    def display_info(self):\n",
    "        print(f\"{self.model} with {self.memory} memory and {self.ram} RAM, manufactured in {self.manufacturing}\")\n",
    "\n",
    "iphone = Mobile(\"iPhone\", \"128GB\", \"12GB\", \"USA\")\n",
    "oneplus = Mobile(\"OnePlus 8T\", \"128GB\", \"12GB\", \"Japan\")\n",
    "\n",
    "iphone.display_info()\n",
    "oneplus.display_info()\n",
    "\n"
   ]
  },
  {
   "cell_type": "code",
   "execution_count": null,
   "id": "029a583f-4ad2-427e-9dae-bf00cd25cf18",
   "metadata": {},
   "outputs": [],
   "source": []
  }
 ],
 "metadata": {
  "kernelspec": {
   "display_name": "Python 3 (ipykernel)",
   "language": "python",
   "name": "python3"
  },
  "language_info": {
   "codemirror_mode": {
    "name": "ipython",
    "version": 3
   },
   "file_extension": ".py",
   "mimetype": "text/x-python",
   "name": "python",
   "nbconvert_exporter": "python",
   "pygments_lexer": "ipython3",
   "version": "3.11.4"
  }
 },
 "nbformat": 4,
 "nbformat_minor": 5
}
