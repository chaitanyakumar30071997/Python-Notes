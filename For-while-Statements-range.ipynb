{
 "cells": [
  {
   "cell_type": "markdown",
   "id": "c7c73994-59df-4b47-8ce2-4a8b8464f032",
   "metadata": {},
   "source": [
    "# For loop and While loop and range "
   ]
  },
  {
   "cell_type": "markdown",
   "id": "ae839152-a3d7-4c44-95e9-a329598711a1",
   "metadata": {},
   "source": [
    "Looping Statements\n",
    "\n",
    "→Looping Statements are Used to execute the set of statements repeatedly.\n",
    "\n",
    "→ python Suppats 2 types of looping statements.\n",
    "\n",
    "i. while\n",
    "\n",
    "ii. for\n",
    "\n",
    "1. while :- while loop executes the sat of statements or block repeatedly Until condition will become false."
   ]
  },
  {
   "cell_type": "markdown",
   "id": "55d40cd3-9ef4-438c-9a31-d71ae3cd156b",
   "metadata": {},
   "source": [
    "# FOR LOOP\n",
    "\n",
    " For loop: - For loop executer the set of statements or Block with repeat- to every element of the string / Collection objects.\n",
    "\n",
    "Syntax: for variablename in sequence:\n",
    "\n",
    "Stormts"
   ]
  },
  {
   "cell_type": "markdown",
   "id": "7a03316a-fe93-4b05-8ec1-74fbdad0ca06",
   "metadata": {},
   "source": [
    "# Condition: \n",
    "This is a Boolean expression that is evaluated before each iteration. If it returns True, the loop continues; if False, the loop terminates.\n",
    "# Code Block:\n",
    "This is the block of code that will be executed as long as the condition is True. It must be indented to indicate that it belongs to the loop."
   ]
  },
  {
   "cell_type": "code",
   "execution_count": 5,
   "id": "9f74f4ee-5458-4360-903a-86b4a23a0538",
   "metadata": {},
   "outputs": [
    {
     "name": "stdout",
     "output_type": "stream",
     "text": [
      "2\n",
      "4\n",
      "6\n",
      "8\n",
      "10\n",
      "12\n",
      "14\n",
      "16\n",
      "18\n",
      "20\n"
     ]
    }
   ],
   "source": [
    "i = 2\n",
    "while i <= 20:\n",
    "    print(i)\n",
    "    i = i+2"
   ]
  },
  {
   "cell_type": "markdown",
   "id": "75b2576a-0ad5-4ed7-b4b1-a3913af6e587",
   "metadata": {},
   "source": [
    "# break\n",
    "Breaking Out of a Loop: You can use the break statement to exit a loop prematurely"
   ]
  },
  {
   "cell_type": "code",
   "execution_count": 1,
   "id": "0a3889f5-c661-4f5f-815e-3111864eca26",
   "metadata": {},
   "outputs": [
    {
     "name": "stdout",
     "output_type": "stream",
     "text": [
      "Count is: 0\n",
      "Count is: 1\n",
      "Count is: 2\n",
      "Count is: 3\n",
      "Count is: 4\n"
     ]
    }
   ],
   "source": [
    "count = 0\n",
    "while count < 10:\n",
    "    if count == 5:\n",
    "        break  \n",
    "    print(\"Count is:\", count)\n",
    "    count += 1"
   ]
  },
  {
   "cell_type": "markdown",
   "id": "9184568a-7f8f-41f5-a7be-36bfbee20ca5",
   "metadata": {},
   "source": [
    "# Continue\n",
    "Skipping Iterations: The continue statement can be used to skip the current iteration and move to the next one"
   ]
  },
  {
   "cell_type": "code",
   "execution_count": 6,
   "id": "68759453-548f-4944-a5bd-5996b864c158",
   "metadata": {},
   "outputs": [
    {
     "name": "stdout",
     "output_type": "stream",
     "text": [
      "Count is: 1\n",
      "Count is: 2\n",
      "Count is: 4\n",
      "Count is: 5\n"
     ]
    }
   ],
   "source": [
    "count = 0\n",
    "while count < 5:\n",
    "    count += 1\n",
    "    if count == 3:\n",
    "        continue   \n",
    "    print(\"Count is:\", count)"
   ]
  },
  {
   "cell_type": "code",
   "execution_count": 1,
   "id": "0cbfd754-71a9-4e8a-8d77-444c1d199b36",
   "metadata": {},
   "outputs": [
    {
     "name": "stdout",
     "output_type": "stream",
     "text": [
      "apple\n",
      "banana\n",
      "cherry\n"
     ]
    }
   ],
   "source": [
    "# For loop \n",
    "fruits = [\"apple\", \"banana\", \"cherry\"]\n",
    "for fruit in fruits:\n",
    "    print(fruit)\n",
    "    "
   ]
  },
  {
   "cell_type": "code",
   "execution_count": 2,
   "id": "00e52f44-153c-49d6-86a5-0e6d2225b116",
   "metadata": {},
   "outputs": [
    {
     "name": "stdout",
     "output_type": "stream",
     "text": [
      "0\n",
      "1\n",
      "2\n",
      "3\n",
      "4\n"
     ]
    }
   ],
   "source": [
    "for i in range(5):\n",
    "    print(i)\n",
    "    "
   ]
  },
  {
   "cell_type": "code",
   "execution_count": 3,
   "id": "c871c06f-f0cf-4896-8819-ffb44ec16a8d",
   "metadata": {},
   "outputs": [
    {
     "name": "stdout",
     "output_type": "stream",
     "text": [
      "0\n",
      "1\n",
      "2\n",
      "Loop is done!\n",
      "The history saving thread hit an unexpected error (OperationalError('attempt to write a readonly database')).History will not be written to the database.\n"
     ]
    }
   ],
   "source": [
    "for i in range(3):\n",
    "    print(i)\n",
    "else:\n",
    "    print(\"Loop is done!\")\n",
    "    "
   ]
  },
  {
   "cell_type": "code",
   "execution_count": 7,
   "id": "7dbc5337-56dd-45a9-b284-2156f17665f5",
   "metadata": {},
   "outputs": [
    {
     "name": "stdout",
     "output_type": "stream",
     "text": [
      "0\n",
      "1\n",
      "2\n",
      "3\n",
      "4\n",
      "5\n",
      "6\n",
      "7\n",
      "8\n",
      "9\n",
      "10\n",
      "11\n",
      "12\n",
      "13\n",
      "14\n",
      "15\n",
      "16\n",
      "17\n",
      "18\n",
      "19\n",
      "20\n",
      "21\n",
      "22\n",
      "23\n",
      "24\n",
      "25\n",
      "26\n",
      "27\n",
      "28\n",
      "29\n",
      "30\n",
      "31\n",
      "32\n",
      "33\n",
      "34\n",
      "35\n",
      "36\n",
      "37\n",
      "38\n",
      "39\n",
      "40\n",
      "41\n",
      "42\n",
      "43\n",
      "44\n",
      "45\n",
      "46\n",
      "47\n",
      "48\n",
      "49\n"
     ]
    }
   ],
   "source": [
    "for i in range(100):\n",
    "    if i == 50:\n",
    "        break\n",
    "    \n",
    "    print(i)"
   ]
  },
  {
   "cell_type": "code",
   "execution_count": 10,
   "id": "32db8d22-4580-45c8-b468-c716d74162d7",
   "metadata": {},
   "outputs": [
    {
     "name": "stdout",
     "output_type": "stream",
     "text": [
      "0\n",
      "1\n",
      "2\n",
      "3\n",
      "4\n",
      "5\n",
      "6\n",
      "7\n",
      "8\n",
      "9\n",
      "10\n",
      "11\n",
      "12\n",
      "13\n",
      "14\n",
      "16\n",
      "17\n",
      "18\n",
      "19\n",
      "20\n",
      "21\n",
      "22\n",
      "23\n",
      "24\n"
     ]
    }
   ],
   "source": [
    "for i in range(25):\n",
    "    \n",
    "    if i == 15:\n",
    "        continue\n",
    "    print(i)"
   ]
  },
  {
   "cell_type": "code",
   "execution_count": 8,
   "id": "470fe93b-5b2d-4b8d-9e39-bb3692687b33",
   "metadata": {},
   "outputs": [
    {
     "name": "stdout",
     "output_type": "stream",
     "text": [
      "Apple\n",
      "Boll\n",
      "Cat\n"
     ]
    }
   ],
   "source": [
    "\n",
    "\n",
    "names = [\"Apple\", \"Boll\", \"Cat\", \"Dog\", \"Eve\"]\n",
    "\n",
    "for name in names:\n",
    "    if name[0].upper() in ['A', 'B', 'C']:\n",
    "        print(name)\n",
    "        \n",
    "        "
   ]
  },
  {
   "cell_type": "code",
   "execution_count": 16,
   "id": "2fbf18a9-711d-40cf-81d1-a16b5747dc98",
   "metadata": {},
   "outputs": [],
   "source": [
    "ev_data = [['vehicle', 'range', 'price'],\n",
    "           ['Tesla Model 3 LR', '310', '49900'],\n",
    "           ['Hyundai Ioniq EV', '124', '30315'],\n",
    "           ['Chevy Bolt', '238', '36620']]"
   ]
  },
  {
   "cell_type": "code",
   "execution_count": 17,
   "id": "234ad303-b67d-481d-971c-e1bfa223f83c",
   "metadata": {},
   "outputs": [
    {
     "name": "stdout",
     "output_type": "stream",
     "text": [
      "[['vehicle', 'range', 'price'], ['Tesla Model 3 LR', 310, '49900'], ['Hyundai Ioniq EV', 124, '30315'], ['Chevy Bolt', 238, '36620']]\n"
     ]
    }
   ],
   "source": [
    "for row in ev_data[1:]:         # loop through each row in ev_data starting with row 2 (index 1)\n",
    "    ev_range = row[1]           # each car's range is found in column 2 (index 1)\n",
    "    ev_range = int(ev_range)    # convert each range number from a string to an integer\n",
    "    row[1] = ev_range           # assign range, which is now an integer, back to index 1 in each row\n",
    "\n",
    "print(ev_data)"
   ]
  },
  {
   "cell_type": "code",
   "execution_count": null,
   "id": "70291000-40d2-4210-bdca-8927a9d61563",
   "metadata": {},
   "outputs": [],
   "source": []
  }
 ],
 "metadata": {
  "kernelspec": {
   "display_name": "Python 3 (ipykernel)",
   "language": "python",
   "name": "python3"
  },
  "language_info": {
   "codemirror_mode": {
    "name": "ipython",
    "version": 3
   },
   "file_extension": ".py",
   "mimetype": "text/x-python",
   "name": "python",
   "nbconvert_exporter": "python",
   "pygments_lexer": "ipython3",
   "version": "3.11.4"
  }
 },
 "nbformat": 4,
 "nbformat_minor": 5
}
