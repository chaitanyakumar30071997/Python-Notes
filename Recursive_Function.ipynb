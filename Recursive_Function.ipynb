{
 "cells": [
  {
   "cell_type": "markdown",
   "id": "11218151-5458-4661-9ad7-e8d5a8133069",
   "metadata": {},
   "source": [
    "# Recursive Function in Python"
   ]
  },
  {
   "cell_type": "markdown",
   "id": "0c607f4f-f4e1-43f3-8929-f20f91606479",
   "metadata": {},
   "source": [
    "1. A Function that calls itself is known as Technique is known as Recursion Function. and this Techinge is known as recusion \n",
    "\n",
    "2. there should be at least one if statement used to terminate recursion.\n",
    "\n",
    "3. It doesn't contain any looping statements.\n",
    "   \n",
    "4. Recursive Function: A function that calls itself during execution.\n",
    "\n",
    "5. Base Case: The condition that stops the recursion. Without a base case, the function would keep calling itself indefinitely.\n",
    "   \n",
    "6. Recursive Case: The part of the function where it calls itself with a smaller input."
   ]
  },
  {
   "cell_type": "markdown",
   "id": "a9671b1d-ff9e-41ff-8ef6-6864739f1c36",
   "metadata": {},
   "source": [
    "# Why Use Recursion?\n",
    "Recursion simplifies complex problems by breaking them down into smaller, more manageable pieces. It’s particularly useful for problems that exhibit a recursive structure, such as tree traversal, mathematical sequences, and divide-and-conquer algorithms."
   ]
  },
  {
   "cell_type": "code",
   "execution_count": 2,
   "id": "7099fd03-3ed8-4372-8b73-bafa3f991ebe",
   "metadata": {},
   "outputs": [
    {
     "ename": "SyntaxError",
     "evalue": "invalid syntax (4006643406.py, line 3)",
     "output_type": "error",
     "traceback": [
      "\u001b[1;36m  Cell \u001b[1;32mIn[2], line 3\u001b[1;36m\u001b[0m\n\u001b[1;33m    robo():\u001b[0m\n\u001b[1;37m          ^\u001b[0m\n\u001b[1;31mSyntaxError\u001b[0m\u001b[1;31m:\u001b[0m invalid syntax\n"
     ]
    }
   ],
   "source": [
    "def robo():\n",
    "    print(\"Hai\")\n",
    "    robo():\n",
    "\n",
    "robo()"
   ]
  },
  {
   "cell_type": "code",
   "execution_count": 6,
   "id": "cbf59349-3c76-4094-9afb-4082afb3dbe2",
   "metadata": {},
   "outputs": [
    {
     "data": {
      "text/plain": [
       "120"
      ]
     },
     "execution_count": 6,
     "metadata": {},
     "output_type": "execute_result"
    }
   ],
   "source": [
    "def fact(n):\n",
    "    if n == 1:\n",
    "        return 1\n",
    "    else :\n",
    "        return n * fact(n-1)\n",
    "\n",
    "fact(5)\n",
    "\n"
   ]
  },
  {
   "cell_type": "code",
   "execution_count": 7,
   "id": "c7bd9ae8-3746-4d7e-8ec9-f39566acfdf4",
   "metadata": {},
   "outputs": [
    {
     "name": "stdout",
     "output_type": "stream",
     "text": [
      "5\n",
      "4\n",
      "3\n",
      "2\n",
      "1\n",
      "Blastoff!\n"
     ]
    }
   ],
   "source": [
    "def count_down(n):\n",
    "    if n == 0:\n",
    "        print(\"Blastoff!\")\n",
    "    else:\n",
    "        print(n)\n",
    "        count_down(n - 1)\n",
    "\n",
    "count_down(5)\n"
   ]
  },
  {
   "cell_type": "code",
   "execution_count": 8,
   "id": "524e5dae-079e-4d64-abb0-cae56e660631",
   "metadata": {},
   "outputs": [
    {
     "name": "stdout",
     "output_type": "stream",
     "text": [
      "120\n"
     ]
    }
   ],
   "source": [
    "def factorial(n):\n",
    "    if n == 0:\n",
    "        return 1\n",
    "    else:\n",
    "        return n * factorial(n - 1)\n",
    "\n",
    "print(factorial(5))  \n"
   ]
  },
  {
   "cell_type": "code",
   "execution_count": null,
   "id": "3895021a-991a-4262-b6bc-c8d30faad9a0",
   "metadata": {},
   "outputs": [],
   "source": []
  }
 ],
 "metadata": {
  "kernelspec": {
   "display_name": "Python 3 (ipykernel)",
   "language": "python",
   "name": "python3"
  },
  "language_info": {
   "codemirror_mode": {
    "name": "ipython",
    "version": 3
   },
   "file_extension": ".py",
   "mimetype": "text/x-python",
   "name": "python",
   "nbconvert_exporter": "python",
   "pygments_lexer": "ipython3",
   "version": "3.12.3"
  }
 },
 "nbformat": 4,
 "nbformat_minor": 5
}
