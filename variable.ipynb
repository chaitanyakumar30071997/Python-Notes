{
 "cells": [
  {
   "cell_type": "markdown",
   "id": "bab10cb7-f300-45a2-94b7-ded6c9a2bf51",
   "metadata": {},
   "source": [
    "# variable"
   ]
  },
  {
   "cell_type": "markdown",
   "id": "8f0b78fe-539c-4037-8ecd-ac4bf610b1e1",
   "metadata": {},
   "source": [
    "1.  can be defined as a name of memory storage location.\n",
    "2.  A variable is defined as Alternate name for memory location\n",
    "3.  It store's data value of the progrm and provide wherever requested\n",
    "4.  python does not required the variable to be declared\n",
    "5.  python internally handles the variable according to the value assigned to then "
   ]
  },
  {
   "cell_type": "markdown",
   "id": "aae04c4c-5110-449d-8f84-5f73ba0a1328",
   "metadata": {},
   "source": [
    "# Rules "
   ]
  },
  {
   "cell_type": "markdown",
   "id": "c8507419-a38f-4f3a-9ea9-f478eae2e718",
   "metadata": {},
   "source": [
    "1. A variable name must be declared with later or Undesscore(_)\n",
    "2. A variable name cannot starls with a number\n",
    "3. special charactor are not allowed except underscord(_)\n",
    "4. variable names are case-sensitive\n",
    "5. variable name should not match with keywords "
   ]
  },
  {
   "cell_type": "code",
   "execution_count": 1,
   "id": "f754c4bc-786e-4e60-a435-a4ea3ad77a10",
   "metadata": {},
   "outputs": [
    {
     "name": "stdout",
     "output_type": "stream",
     "text": [
      "100\n"
     ]
    }
   ],
   "source": [
    "# variable declaration\n",
    "x = 100\n",
    "print(x)"
   ]
  },
  {
   "cell_type": "code",
   "execution_count": 2,
   "id": "4280cf02-b9e1-431d-8b17-5f88983c3cb2",
   "metadata": {},
   "outputs": [],
   "source": [
    "x = y =z = 100"
   ]
  },
  {
   "cell_type": "code",
   "execution_count": 3,
   "id": "0f18897a-57a2-4977-b221-6102e0da8db3",
   "metadata": {},
   "outputs": [
    {
     "data": {
      "text/plain": [
       "100"
      ]
     },
     "execution_count": 3,
     "metadata": {},
     "output_type": "execute_result"
    }
   ],
   "source": [
    "x"
   ]
  },
  {
   "cell_type": "code",
   "execution_count": 4,
   "id": "6f74b384-1cb4-4723-b008-89cf281c2306",
   "metadata": {},
   "outputs": [
    {
     "data": {
      "text/plain": [
       "100"
      ]
     },
     "execution_count": 4,
     "metadata": {},
     "output_type": "execute_result"
    }
   ],
   "source": [
    "y"
   ]
  },
  {
   "cell_type": "code",
   "execution_count": 5,
   "id": "32143d75-c994-4a1e-a042-1814b1dcc529",
   "metadata": {},
   "outputs": [
    {
     "data": {
      "text/plain": [
       "100"
      ]
     },
     "execution_count": 5,
     "metadata": {},
     "output_type": "execute_result"
    }
   ],
   "source": [
    "z"
   ]
  },
  {
   "cell_type": "code",
   "execution_count": null,
   "id": "b4c3e871-37ae-41e6-a609-9bde29acb01f",
   "metadata": {},
   "outputs": [],
   "source": []
  }
 ],
 "metadata": {
  "kernelspec": {
   "display_name": "Python 3 (ipykernel)",
   "language": "python",
   "name": "python3"
  },
  "language_info": {
   "codemirror_mode": {
    "name": "ipython",
    "version": 3
   },
   "file_extension": ".py",
   "mimetype": "text/x-python",
   "name": "python",
   "nbconvert_exporter": "python",
   "pygments_lexer": "ipython3",
   "version": "3.12.3"
  }
 },
 "nbformat": 4,
 "nbformat_minor": 5
}
