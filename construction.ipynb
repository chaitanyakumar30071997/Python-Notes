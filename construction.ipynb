{
 "cells": [
  {
   "cell_type": "markdown",
   "id": "76460881-5925-4241-8e7c-3d460d1846b2",
   "metadata": {},
   "source": [
    "# Constructor\n",
    "1. Constructor is a special type of method for initializing the instance variable of a class \n",
    "2. Constructor called automatically when ever object is created .\n",
    "3. A Constructor is called only ones at the time of create on instance(object).\n",
    "4. using __init__ method we can create Constructor\n",
    "\n",
    "Types of Constructor:- there are two of Constructor\n",
    "Default Constructor:- there two type of Constructor\n",
    "1. default Constructor 2.parameters or arguments are called as default Constructor.\n",
    "\n",
    "default Constructor:- A Constructor without parameters or arguments are called as default Constructor\n",
    "\n",
    "\n",
    "\n",
    "\n",
    " \n",
    "\n",
    " "
   ]
  },
  {
   "cell_type": "code",
   "execution_count": 4,
   "id": "233e69fd-2e79-4eeb-a3a5-260795f31afb",
   "metadata": {},
   "outputs": [
    {
     "name": "stdout",
     "output_type": "stream",
     "text": [
      "Id and name = (87644, 'shiva')\n"
     ]
    }
   ],
   "source": [
    "class Emp():\n",
    "    def __init__(self):\n",
    "        self.id = 87644\n",
    "        self.name = 'shiva'\n",
    "\n",
    "obj = Emp()\n",
    "print('Id and name =',(obj.id, obj.name))"
   ]
  },
  {
   "cell_type": "code",
   "execution_count": null,
   "id": "4daf2319-e3f7-4e4c-986c-43335ca3406e",
   "metadata": {},
   "outputs": [],
   "source": []
  },
  {
   "cell_type": "code",
   "execution_count": 16,
   "id": "458ea150-50ff-4c8c-b28d-09800e18f451",
   "metadata": {},
   "outputs": [
    {
     "name": "stdout",
     "output_type": "stream",
     "text": [
      "add num = 600\n"
     ]
    }
   ],
   "source": [
    "class Emp():\n",
    "    def __init__(self,x,y):\n",
    "        self.a = x \n",
    "        self.b = y\n",
    "\n",
    "obj1 = Emp(200,400)\n",
    "print('add num =',(obj1.a + obj1.b))\n",
    "\n",
    "        \n",
    "    "
   ]
  },
  {
   "cell_type": "code",
   "execution_count": null,
   "id": "1aa52d99-bf56-4d5d-8b8e-2e3a06d94fd2",
   "metadata": {},
   "outputs": [],
   "source": []
  }
 ],
 "metadata": {
  "kernelspec": {
   "display_name": "Python 3 (ipykernel)",
   "language": "python",
   "name": "python3"
  },
  "language_info": {
   "codemirror_mode": {
    "name": "ipython",
    "version": 3
   },
   "file_extension": ".py",
   "mimetype": "text/x-python",
   "name": "python",
   "nbconvert_exporter": "python",
   "pygments_lexer": "ipython3",
   "version": "3.12.3"
  }
 },
 "nbformat": 4,
 "nbformat_minor": 5
}
