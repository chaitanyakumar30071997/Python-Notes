{
 "cells": [
  {
   "cell_type": "markdown",
   "id": "5b87dcd0-1d23-4754-b3e9-405a5f480908",
   "metadata": {},
   "source": [
    "# Python keywords"
   ]
  },
  {
   "cell_type": "raw",
   "id": "0c099bc4-2eda-4032-bfe2-3f4e9052c4af",
   "metadata": {},
   "source": [
    "List of Python Keywords\n",
    "False: Boolean value representing false.\n",
    "True: Boolean value representing true.\n",
    "None: Represents a null value.\n",
    "and: Logical operator.\n",
    "or: Logical operator.\n",
    "not: Logical operator.\n",
    "if: Conditional statement.\n",
    "elif: Else if conditional statement.\n",
    "else: Else conditional statement.\n",
    "for: Looping statement.\n",
    "while: Looping statement.\n",
    "break: Breaks out of a loop.\n",
    "continue: Continues to the next iteration of a loop.\n",
    "def: Defines a function.\n",
    "return: Exits a function and returns a value.\n",
    "yield: Used with generators.\n",
    "class: Defines a class.\n",
    "try: Starts a try block for exception handling.\n",
    "except: Catches exceptions.\n",
    "finally: Executes code regardless of exceptions.\n",
    "raise: Raises an exception.\n",
    "import: Imports a module.\n",
    "from: Imports specific parts of a module.\n",
    "as: Creates an alias.\n",
    "pass: Null statement, does nothing.\n",
    "global: Declares a global variable.\n",
    "nonlocal: Declares a non-local variable.\n",
    "assert: For debugging.\n",
    "del: Deletes an object.\n",
    "with: Simplifies exception handling.\n",
    "lambda: Creates an anonymous function.\n",
    "async: Declares an asynchronous function.\n",
    "await: Waits for an asynchronous function."
   ]
  },
  {
   "cell_type": "markdown",
   "id": "f4995f2c-0409-4062-bb25-5fe830673d48",
   "metadata": {},
   "source": [
    "# Single-Line Comments:- \n",
    "Single-line comments start with the # symbol. Everything after the # on that line is considered a comment\n"
   ]
  },
  {
   "cell_type": "code",
   "execution_count": 1,
   "id": "d5c0c070-251a-4f9c-a75c-7f39bcf298b6",
   "metadata": {},
   "outputs": [
    {
     "name": "stdout",
     "output_type": "stream",
     "text": [
      "Hello, World!\n"
     ]
    }
   ],
   "source": [
    "print(\"Hello, World!\")"
   ]
  },
  {
   "cell_type": "markdown",
   "id": "832dcde3-b62e-40ae-ac8e-6a891e011a72",
   "metadata": {},
   "source": [
    "# Multi-Line Comments"
   ]
  },
  {
   "cell_type": "code",
   "execution_count": null,
   "id": "bccc0bf4-0cf7-414a-947f-295e69868f66",
   "metadata": {},
   "outputs": [],
   "source": []
  }
 ],
 "metadata": {
  "kernelspec": {
   "display_name": "Python 3 (ipykernel)",
   "language": "python",
   "name": "python3"
  },
  "language_info": {
   "codemirror_mode": {
    "name": "ipython",
    "version": 3
   },
   "file_extension": ".py",
   "mimetype": "text/x-python",
   "name": "python",
   "nbconvert_exporter": "python",
   "pygments_lexer": "ipython3",
   "version": "3.12.3"
  }
 },
 "nbformat": 4,
 "nbformat_minor": 5
}
