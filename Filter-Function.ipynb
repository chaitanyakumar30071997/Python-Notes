{
 "cells": [
  {
   "cell_type": "markdown",
   "id": "7c88efac-3747-41a2-9d32-2e54961c0bb1",
   "metadata": {},
   "source": [
    "# Filter Function\n",
    "\n",
    "1. It is a Built-in function, used to filter out the elements of an iterator. depending on a function that test each element in the sequence to be true (sequence)\n",
    "\n",
    "2. It return those elements of sequence for which function is true.\n",
    "\n",
    "3. filter function performs the operations in the same way as a for loop does, But it is Comparatively faster than a for loop."
   ]
  },
  {
   "cell_type": "markdown",
   "id": "aae1f423-94a3-45aa-be4e-37266b997f48",
   "metadata": {},
   "source": [
    "# Syntax: filter(function, sequence)\n",
    "\n",
    "Parameters:\n",
    "\n",
    "1. Function: function that tests if each element of a sequence is true or not.\n",
    "\n",
    "2. Sequence: sequence which needs to be filtered, it can be sets, lists, tuples, or containers of any iterators.\n",
    "\n",
    "3. Returns: an iterator that is already filtered."
   ]
  },
  {
   "cell_type": "code",
   "execution_count": 1,
   "id": "4a814fde-6db5-41cf-a462-a4ab23833689",
   "metadata": {},
   "outputs": [
    {
     "name": "stdout",
     "output_type": "stream",
     "text": [
      "['e', 'e', 'o', 'e', 'e']\n"
     ]
    }
   ],
   "source": [
    "# Function that filters vowels\n",
    "def is_vowel(char):\n",
    "    vowels = 'aeiou'\n",
    "    return char in vowels\n",
    "\n",
    "# Sequence of characters\n",
    "sequence = ['g', 'e', 'e', 'k', 's', 'f', 'o', 'r', 'g', 'e', 'e', 'k', 's']\n",
    "\n",
    "# Using filter function\n",
    "filtered = filter(is_vowel, sequence)\n",
    "\n",
    "# Converting the filter object to a list\n",
    "filtered_vowels = list(filtered)\n",
    "\n",
    "print(filtered_vowels)\n"
   ]
  },
  {
   "cell_type": "code",
   "execution_count": 6,
   "id": "7fd3e399-466a-426b-9f4e-aabcb02a9ba0",
   "metadata": {},
   "outputs": [
    {
     "name": "stdout",
     "output_type": "stream",
     "text": [
      "2\n",
      "4\n",
      "6\n",
      "8\n",
      "10\n",
      "[]\n"
     ]
    }
   ],
   "source": [
    "l = [1,2,3,4,5,6,7,8,9,10]\n",
    "def squ(n):\n",
    "    if (n%2 == 0):\n",
    "        print (n)\n",
    "print(list(filter (squ,l)))\n",
    "        "
   ]
  },
  {
   "cell_type": "code",
   "execution_count": 12,
   "id": "c2f66f33-98b2-48f9-b616-c587809d792e",
   "metadata": {},
   "outputs": [
    {
     "name": "stdout",
     "output_type": "stream",
     "text": [
      "[1, 3, 5, 7, 9]\n"
     ]
    }
   ],
   "source": [
    "# list containing numbers\n",
    "list1 = [1, 2, 3, 4, 5, 6, 7, 8, 9 ,10]\n",
    "\n",
    "# empty list\n",
    "odd = []\n",
    "\n",
    "# for loop to iterate\n",
    "for i in list1:\n",
    "    if i%2!=0:\n",
    "        odd.append(i)\n",
    "# printing\n",
    "print(odd)"
   ]
  },
  {
   "cell_type": "code",
   "execution_count": 13,
   "id": "916f1c7c-152a-4bf1-8c9f-54da9cd611c8",
   "metadata": {},
   "outputs": [
    {
     "name": "stdout",
     "output_type": "stream",
     "text": [
      "['easygoing', 'easypeasy', 'easylife']\n"
     ]
    }
   ],
   "source": [
    "# List of names\n",
    "names = [\"easygoing\", \"easypeasy\", \"simple\", \"complex\", \"easylife\"]\n",
    "\n",
    "# Use filter() to find names containing \"easy\"\n",
    "filtered_names = filter(lambda name: \"easy\" in name, names)\n",
    "\n",
    "# Convert the filter object to a list and print it\n",
    "print(list(filtered_names))\n"
   ]
  },
  {
   "cell_type": "code",
   "execution_count": 14,
   "id": "6f9ff028-c075-419e-a395-21bc33ec9f6e",
   "metadata": {},
   "outputs": [
    {
     "name": "stdout",
     "output_type": "stream",
     "text": [
      "['easygoing', 'easypeasy', 'easylife']\n"
     ]
    }
   ],
   "source": [
    "# List of names\n",
    "names = [\"easygoing\", \"easypeasy\", \"simple\", \"complex\", \"easylife\"]\n",
    "\n",
    "# Define a function to check if \"easy\" is in the name\n",
    "def contains_easy(name):\n",
    "    return \"easy\" in name\n",
    "\n",
    "# Use filter() to apply the function to the list\n",
    "filtered_names = filter(contains_easy, names)\n",
    "\n",
    "# Convert the filter object to a list and print it\n",
    "print(list(filtered_names))\n"
   ]
  },
  {
   "cell_type": "code",
   "execution_count": 17,
   "id": "96d672af-93e5-4b08-a011-c2e3d514822e",
   "metadata": {},
   "outputs": [
    {
     "name": "stdout",
     "output_type": "stream",
     "text": [
      "['moon', 'maga']\n"
     ]
    }
   ],
   "source": [
    "names = ['sun', 'moon', 'suni', 'maga']\n",
    "\n",
    "def con_easy(name):\n",
    "    return 'm' in name\n",
    "\n",
    "fil = filter(con_easy,names)\n",
    "\n",
    "print (list(fil))"
   ]
  },
  {
   "cell_type": "code",
   "execution_count": null,
   "id": "c35b8be4-2f0b-4306-bcc6-02e3229a99c7",
   "metadata": {},
   "outputs": [],
   "source": []
  }
 ],
 "metadata": {
  "kernelspec": {
   "display_name": "Python 3 (ipykernel)",
   "language": "python",
   "name": "python3"
  },
  "language_info": {
   "codemirror_mode": {
    "name": "ipython",
    "version": 3
   },
   "file_extension": ".py",
   "mimetype": "text/x-python",
   "name": "python",
   "nbconvert_exporter": "python",
   "pygments_lexer": "ipython3",
   "version": "3.11.4"
  }
 },
 "nbformat": 4,
 "nbformat_minor": 5
}
