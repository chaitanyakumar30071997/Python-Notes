{
 "cells": [
  {
   "cell_type": "markdown",
   "id": "446bd932-5a52-4f14-a39f-8da0e89025e0",
   "metadata": {},
   "source": [
    "# Conditional Statements\n",
    "\n",
    "→Conditional Statements are used to decide whether code has to be execute or skip based on the evaluation of the Condition.\n",
    "\n",
    "→After Evaluating the condition, it should return either true or false. python supports 3 Conditional statements they are:-\n",
    "\n",
    "1. Simple if (or) if\n",
    "\n",
    "2. if else\n",
    "\n",
    "3. if - elif - else\n",
    "\n",
    "1. simple if:- Simple if executes the block if Condition returns true otherwise it will skip the execution of the block."
   ]
  },
  {
   "cell_type": "markdown",
   "id": "02272f90-e979-46e6-8ede-9b43acc71a77",
   "metadata": {},
   "source": [
    "# Write a code based on the  statement \n",
    "* If tomorrow it doesn't rain, I’ll go out with my friends in the park. Otherwise, I’ll stay home with a cup of hot tea and watch TV.\n",
    "* If tomorrow it isn't too hot, I’ll go to the sea, but if it is, I’ll have a walk in the forest. However, if it rains, I’ll stay home."
   ]
  },
  {
   "cell_type": "code",
   "execution_count": 10,
   "id": "c55dfd65-af7d-4041-be83-09cde79de9d2",
   "metadata": {},
   "outputs": [
    {
     "name": "stdin",
     "output_type": "stream",
     "text": [
      "Enter in Rain are suni or hot  Rain\n"
     ]
    },
    {
     "name": "stdout",
     "output_type": "stream",
     "text": [
      "will stay home with a cup of hot tea\n"
     ]
    }
   ],
   "source": [
    "climate = input('Enter in Rain are suni or hot ')\n",
    "if climate  == 'Rain':\n",
    "    print('will stay home with a cup of hot tea')\n",
    "elif climate == 'suni':\n",
    "    print('will go out with my frind in the park ')\n",
    "else:\n",
    "    print('I will go to the sea')\n",
    "    "
   ]
  },
  {
   "cell_type": "code",
   "execution_count": null,
   "id": "3bb7a5bc-e7f2-47a1-9fda-ccfff5504c09",
   "metadata": {},
   "outputs": [],
   "source": [
    "if condition1:\n",
    "    \n",
    "elif condition2:\n",
    "    # Code to execute if condition2 is True\n",
    "else:\n",
    "    # Code to execute if neither condition1 nor condition2 is True\n",
    "    "
   ]
  },
  {
   "cell_type": "code",
   "execution_count": 11,
   "id": "4db9406a-572a-4bbe-9d88-3e09df079946",
   "metadata": {},
   "outputs": [
    {
     "name": "stdout",
     "output_type": "stream",
     "text": [
      "Positive number\n"
     ]
    }
   ],
   "source": [
    "number = 10\n",
    "if number > 0:\n",
    "    print('Positive number')\n",
    "else:\n",
    "    print('Negative number')\n",
    "    "
   ]
  },
  {
   "cell_type": "code",
   "execution_count": 20,
   "id": "66f123f6-b258-496f-9484-686478eed593",
   "metadata": {},
   "outputs": [
    {
     "name": "stdin",
     "output_type": "stream",
     "text": [
      "Enter your height In CM   165\n"
     ]
    },
    {
     "name": "stdout",
     "output_type": "stream",
     "text": [
      "Your select for next Group \n"
     ]
    }
   ],
   "source": [
    "# Write a code for police Height\n",
    "height = input('Enter your height In CM  ')\n",
    "\n",
    "if int(height) > 165:\n",
    "    print ( 'Your are select for police train' )\n",
    "elif  int(height) <= 164:\n",
    "    print ('Your are not select for for your height')\n",
    "elif int(height) == 165:\n",
    "    print ('Your select for next Group ')\n",
    "\n",
    "else :\n",
    "    print ('Enter again for your height')"
   ]
  },
  {
   "cell_type": "code",
   "execution_count": null,
   "id": "a125aae2-8c48-4347-97f3-141c65593721",
   "metadata": {},
   "outputs": [],
   "source": []
  }
 ],
 "metadata": {
  "kernelspec": {
   "display_name": "Python 3 (ipykernel)",
   "language": "python",
   "name": "python3"
  },
  "language_info": {
   "codemirror_mode": {
    "name": "ipython",
    "version": 3
   },
   "file_extension": ".py",
   "mimetype": "text/x-python",
   "name": "python",
   "nbconvert_exporter": "python",
   "pygments_lexer": "ipython3",
   "version": "3.11.4"
  }
 },
 "nbformat": 4,
 "nbformat_minor": 5
}
