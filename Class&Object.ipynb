{
 "cells": [
  {
   "cell_type": "markdown",
   "id": "bcddbd29-ecdc-44be-b29b-af9faf9eae89",
   "metadata": {},
   "source": [
    "# Class and object"
   ]
  },
  {
   "cell_type": "markdown",
   "id": "2d8f850e-7e72-4478-a918-ef030005b583",
   "metadata": {},
   "source": [
    "# Class :- \n",
    "class is structured (or) syntax used to bind (or)Grouo the related data members along with it's Functionalities\n",
    "1. class is a bulePrint of an object\n",
    "2. class is a model to create an object\n",
    "3. class is a template to create an object.\n",
    "4. It is an logical entity That has same specifice attributes and methods\n",
    "\n",
    "# Object:- \n",
    "1. Object is an instance of a class\n",
    "2. It is an entity that existng in the realworld\n",
    "3. It is a physical entity\n",
    "\n",
    "Examples:-\n",
    "# Class       \n",
    "  car            \n",
    "  Mobile        \n",
    "  students \n",
    "  \n",
    " # Object\n",
    " BW,TATA\n",
    " Redme Iqzs\n",
    " Laxmi , Venkata,\n",
    "  "
   ]
  },
  {
   "cell_type": "raw",
   "id": "a6bffc67-2aa8-47d6-a417-372f5697e83d",
   "metadata": {},
   "source": [
    "# class Declaration\n",
    "syntax\n",
    "  class <class-name>:\n",
    "    variable declaration\n",
    "     method Declaration\n",
    "\n",
    "# Variable declaration\n",
    "Syntax \n",
    "   Pubilc :- variable-name <name>\n",
    "              x = 100\n",
    "\n",
    "   private :- __variable-name <name>\n",
    "                __X = 100\n",
    "# Method  Declaration\n",
    "Syntax\n",
    "def method-name(self)\n",
    "  function-name\n",
    "\n",
    "Example:- \n",
    "def robo(self):\n",
    "    print(\"Hello\")\n",
    "\n",
    "# Self :- Implicit reference to access instance variables of a class \n",
    "      "
   ]
  },
  {
   "cell_type": "code",
   "execution_count": 2,
   "id": "38afef30-112b-4c90-a9f8-f780b6227c16",
   "metadata": {},
   "outputs": [
    {
     "name": "stdout",
     "output_type": "stream",
     "text": [
      "Add 300\n"
     ]
    }
   ],
   "source": [
    "class Add():\n",
    "    x = 100\n",
    "    y = 200\n",
    "    def sum (self):\n",
    "        print(\"Add\", self.x + self.y)\n",
    "\n",
    "obj = Add()\n",
    "obj.sum()\n",
    "        "
   ]
  },
  {
   "cell_type": "code",
   "execution_count": 10,
   "id": "9d767f81-9f4e-4c4e-a832-e30dc1bfbc2a",
   "metadata": {},
   "outputs": [
    {
     "name": "stdout",
     "output_type": "stream",
     "text": [
      "Add =  300\n",
      "x value is = 100\n",
      "y value is = 200\n"
     ]
    }
   ],
   "source": [
    "# return Statement \n",
    "\n",
    "# class \n",
    "class Add():\n",
    "    \n",
    "#  variables\n",
    "    x = 100\n",
    "    y = 200\n",
    "    \n",
    "# method \n",
    "    def sum (self):\n",
    "        return self.x + self.y\n",
    "\n",
    "#object \n",
    "obj = Add()\n",
    "print(\"Add = \", obj.sum())\n",
    "print (\"x value is =\", obj.x)   \n",
    "print (\"y value is =\", obj.y)  "
   ]
  },
  {
   "cell_type": "code",
   "execution_count": null,
   "id": "4acf3196-59cb-48a4-8079-73d549d54429",
   "metadata": {},
   "outputs": [],
   "source": []
  }
 ],
 "metadata": {
  "kernelspec": {
   "display_name": "Python 3 (ipykernel)",
   "language": "python",
   "name": "python3"
  },
  "language_info": {
   "codemirror_mode": {
    "name": "ipython",
    "version": 3
   },
   "file_extension": ".py",
   "mimetype": "text/x-python",
   "name": "python",
   "nbconvert_exporter": "python",
   "pygments_lexer": "ipython3",
   "version": "3.12.3"
  }
 },
 "nbformat": 4,
 "nbformat_minor": 5
}
